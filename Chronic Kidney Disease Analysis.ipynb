{
 "cells": [
  {
   "cell_type": "code",
   "execution_count": 1,
   "metadata": {},
   "outputs": [],
   "source": [
    "# STEP 1: Importing Libraries"
   ]
  },
  {
   "cell_type": "code",
   "execution_count": 2,
   "metadata": {},
   "outputs": [],
   "source": [
    "import numpy as np\n",
    "import pandas as pd\n",
    "import matplotlib.pyplot as plt"
   ]
  },
  {
   "cell_type": "code",
   "execution_count": 3,
   "metadata": {},
   "outputs": [],
   "source": [
    "# STEP 2: Importing Dataset"
   ]
  },
  {
   "cell_type": "code",
   "execution_count": 4,
   "metadata": {},
   "outputs": [
    {
     "data": {
      "text/html": [
       "<div>\n",
       "<style scoped>\n",
       "    .dataframe tbody tr th:only-of-type {\n",
       "        vertical-align: middle;\n",
       "    }\n",
       "\n",
       "    .dataframe tbody tr th {\n",
       "        vertical-align: top;\n",
       "    }\n",
       "\n",
       "    .dataframe thead th {\n",
       "        text-align: right;\n",
       "    }\n",
       "</style>\n",
       "<table border=\"1\" class=\"dataframe\">\n",
       "  <thead>\n",
       "    <tr style=\"text-align: right;\">\n",
       "      <th></th>\n",
       "      <th>id</th>\n",
       "      <th>age</th>\n",
       "      <th>bp</th>\n",
       "      <th>sg</th>\n",
       "      <th>al</th>\n",
       "      <th>su</th>\n",
       "      <th>rbc</th>\n",
       "      <th>pc</th>\n",
       "      <th>pcc</th>\n",
       "      <th>ba</th>\n",
       "      <th>...</th>\n",
       "      <th>pcv</th>\n",
       "      <th>wc</th>\n",
       "      <th>rc</th>\n",
       "      <th>htn</th>\n",
       "      <th>dm</th>\n",
       "      <th>cad</th>\n",
       "      <th>appet</th>\n",
       "      <th>pe</th>\n",
       "      <th>ane</th>\n",
       "      <th>classification</th>\n",
       "    </tr>\n",
       "  </thead>\n",
       "  <tbody>\n",
       "    <tr>\n",
       "      <th>0</th>\n",
       "      <td>0</td>\n",
       "      <td>48.0</td>\n",
       "      <td>80.0</td>\n",
       "      <td>1.020</td>\n",
       "      <td>1.0</td>\n",
       "      <td>0.0</td>\n",
       "      <td>NaN</td>\n",
       "      <td>normal</td>\n",
       "      <td>notpresent</td>\n",
       "      <td>notpresent</td>\n",
       "      <td>...</td>\n",
       "      <td>44</td>\n",
       "      <td>7800</td>\n",
       "      <td>5.2</td>\n",
       "      <td>yes</td>\n",
       "      <td>yes</td>\n",
       "      <td>no</td>\n",
       "      <td>good</td>\n",
       "      <td>no</td>\n",
       "      <td>no</td>\n",
       "      <td>ckd</td>\n",
       "    </tr>\n",
       "    <tr>\n",
       "      <th>1</th>\n",
       "      <td>1</td>\n",
       "      <td>7.0</td>\n",
       "      <td>50.0</td>\n",
       "      <td>1.020</td>\n",
       "      <td>4.0</td>\n",
       "      <td>0.0</td>\n",
       "      <td>NaN</td>\n",
       "      <td>normal</td>\n",
       "      <td>notpresent</td>\n",
       "      <td>notpresent</td>\n",
       "      <td>...</td>\n",
       "      <td>38</td>\n",
       "      <td>6000</td>\n",
       "      <td>NaN</td>\n",
       "      <td>no</td>\n",
       "      <td>no</td>\n",
       "      <td>no</td>\n",
       "      <td>good</td>\n",
       "      <td>no</td>\n",
       "      <td>no</td>\n",
       "      <td>ckd</td>\n",
       "    </tr>\n",
       "    <tr>\n",
       "      <th>2</th>\n",
       "      <td>2</td>\n",
       "      <td>62.0</td>\n",
       "      <td>80.0</td>\n",
       "      <td>1.010</td>\n",
       "      <td>2.0</td>\n",
       "      <td>3.0</td>\n",
       "      <td>normal</td>\n",
       "      <td>normal</td>\n",
       "      <td>notpresent</td>\n",
       "      <td>notpresent</td>\n",
       "      <td>...</td>\n",
       "      <td>31</td>\n",
       "      <td>7500</td>\n",
       "      <td>NaN</td>\n",
       "      <td>no</td>\n",
       "      <td>yes</td>\n",
       "      <td>no</td>\n",
       "      <td>poor</td>\n",
       "      <td>no</td>\n",
       "      <td>yes</td>\n",
       "      <td>ckd</td>\n",
       "    </tr>\n",
       "    <tr>\n",
       "      <th>3</th>\n",
       "      <td>3</td>\n",
       "      <td>48.0</td>\n",
       "      <td>70.0</td>\n",
       "      <td>1.005</td>\n",
       "      <td>4.0</td>\n",
       "      <td>0.0</td>\n",
       "      <td>normal</td>\n",
       "      <td>abnormal</td>\n",
       "      <td>present</td>\n",
       "      <td>notpresent</td>\n",
       "      <td>...</td>\n",
       "      <td>32</td>\n",
       "      <td>6700</td>\n",
       "      <td>3.9</td>\n",
       "      <td>yes</td>\n",
       "      <td>no</td>\n",
       "      <td>no</td>\n",
       "      <td>poor</td>\n",
       "      <td>yes</td>\n",
       "      <td>yes</td>\n",
       "      <td>ckd</td>\n",
       "    </tr>\n",
       "    <tr>\n",
       "      <th>4</th>\n",
       "      <td>4</td>\n",
       "      <td>51.0</td>\n",
       "      <td>80.0</td>\n",
       "      <td>1.010</td>\n",
       "      <td>2.0</td>\n",
       "      <td>0.0</td>\n",
       "      <td>normal</td>\n",
       "      <td>normal</td>\n",
       "      <td>notpresent</td>\n",
       "      <td>notpresent</td>\n",
       "      <td>...</td>\n",
       "      <td>35</td>\n",
       "      <td>7300</td>\n",
       "      <td>4.6</td>\n",
       "      <td>no</td>\n",
       "      <td>no</td>\n",
       "      <td>no</td>\n",
       "      <td>good</td>\n",
       "      <td>no</td>\n",
       "      <td>no</td>\n",
       "      <td>ckd</td>\n",
       "    </tr>\n",
       "    <tr>\n",
       "      <th>...</th>\n",
       "      <td>...</td>\n",
       "      <td>...</td>\n",
       "      <td>...</td>\n",
       "      <td>...</td>\n",
       "      <td>...</td>\n",
       "      <td>...</td>\n",
       "      <td>...</td>\n",
       "      <td>...</td>\n",
       "      <td>...</td>\n",
       "      <td>...</td>\n",
       "      <td>...</td>\n",
       "      <td>...</td>\n",
       "      <td>...</td>\n",
       "      <td>...</td>\n",
       "      <td>...</td>\n",
       "      <td>...</td>\n",
       "      <td>...</td>\n",
       "      <td>...</td>\n",
       "      <td>...</td>\n",
       "      <td>...</td>\n",
       "      <td>...</td>\n",
       "    </tr>\n",
       "    <tr>\n",
       "      <th>395</th>\n",
       "      <td>395</td>\n",
       "      <td>55.0</td>\n",
       "      <td>80.0</td>\n",
       "      <td>1.020</td>\n",
       "      <td>0.0</td>\n",
       "      <td>0.0</td>\n",
       "      <td>normal</td>\n",
       "      <td>normal</td>\n",
       "      <td>notpresent</td>\n",
       "      <td>notpresent</td>\n",
       "      <td>...</td>\n",
       "      <td>47</td>\n",
       "      <td>6700</td>\n",
       "      <td>4.9</td>\n",
       "      <td>no</td>\n",
       "      <td>no</td>\n",
       "      <td>no</td>\n",
       "      <td>good</td>\n",
       "      <td>no</td>\n",
       "      <td>no</td>\n",
       "      <td>notckd</td>\n",
       "    </tr>\n",
       "    <tr>\n",
       "      <th>396</th>\n",
       "      <td>396</td>\n",
       "      <td>42.0</td>\n",
       "      <td>70.0</td>\n",
       "      <td>1.025</td>\n",
       "      <td>0.0</td>\n",
       "      <td>0.0</td>\n",
       "      <td>normal</td>\n",
       "      <td>normal</td>\n",
       "      <td>notpresent</td>\n",
       "      <td>notpresent</td>\n",
       "      <td>...</td>\n",
       "      <td>54</td>\n",
       "      <td>7800</td>\n",
       "      <td>6.2</td>\n",
       "      <td>no</td>\n",
       "      <td>no</td>\n",
       "      <td>no</td>\n",
       "      <td>good</td>\n",
       "      <td>no</td>\n",
       "      <td>no</td>\n",
       "      <td>notckd</td>\n",
       "    </tr>\n",
       "    <tr>\n",
       "      <th>397</th>\n",
       "      <td>397</td>\n",
       "      <td>12.0</td>\n",
       "      <td>80.0</td>\n",
       "      <td>1.020</td>\n",
       "      <td>0.0</td>\n",
       "      <td>0.0</td>\n",
       "      <td>normal</td>\n",
       "      <td>normal</td>\n",
       "      <td>notpresent</td>\n",
       "      <td>notpresent</td>\n",
       "      <td>...</td>\n",
       "      <td>49</td>\n",
       "      <td>6600</td>\n",
       "      <td>5.4</td>\n",
       "      <td>no</td>\n",
       "      <td>no</td>\n",
       "      <td>no</td>\n",
       "      <td>good</td>\n",
       "      <td>no</td>\n",
       "      <td>no</td>\n",
       "      <td>notckd</td>\n",
       "    </tr>\n",
       "    <tr>\n",
       "      <th>398</th>\n",
       "      <td>398</td>\n",
       "      <td>17.0</td>\n",
       "      <td>60.0</td>\n",
       "      <td>1.025</td>\n",
       "      <td>0.0</td>\n",
       "      <td>0.0</td>\n",
       "      <td>normal</td>\n",
       "      <td>normal</td>\n",
       "      <td>notpresent</td>\n",
       "      <td>notpresent</td>\n",
       "      <td>...</td>\n",
       "      <td>51</td>\n",
       "      <td>7200</td>\n",
       "      <td>5.9</td>\n",
       "      <td>no</td>\n",
       "      <td>no</td>\n",
       "      <td>no</td>\n",
       "      <td>good</td>\n",
       "      <td>no</td>\n",
       "      <td>no</td>\n",
       "      <td>notckd</td>\n",
       "    </tr>\n",
       "    <tr>\n",
       "      <th>399</th>\n",
       "      <td>399</td>\n",
       "      <td>58.0</td>\n",
       "      <td>80.0</td>\n",
       "      <td>1.025</td>\n",
       "      <td>0.0</td>\n",
       "      <td>0.0</td>\n",
       "      <td>normal</td>\n",
       "      <td>normal</td>\n",
       "      <td>notpresent</td>\n",
       "      <td>notpresent</td>\n",
       "      <td>...</td>\n",
       "      <td>53</td>\n",
       "      <td>6800</td>\n",
       "      <td>6.1</td>\n",
       "      <td>no</td>\n",
       "      <td>no</td>\n",
       "      <td>no</td>\n",
       "      <td>good</td>\n",
       "      <td>no</td>\n",
       "      <td>no</td>\n",
       "      <td>notckd</td>\n",
       "    </tr>\n",
       "  </tbody>\n",
       "</table>\n",
       "<p>400 rows × 26 columns</p>\n",
       "</div>"
      ],
      "text/plain": [
       "      id   age    bp     sg   al   su     rbc        pc         pcc  \\\n",
       "0      0  48.0  80.0  1.020  1.0  0.0     NaN    normal  notpresent   \n",
       "1      1   7.0  50.0  1.020  4.0  0.0     NaN    normal  notpresent   \n",
       "2      2  62.0  80.0  1.010  2.0  3.0  normal    normal  notpresent   \n",
       "3      3  48.0  70.0  1.005  4.0  0.0  normal  abnormal     present   \n",
       "4      4  51.0  80.0  1.010  2.0  0.0  normal    normal  notpresent   \n",
       "..   ...   ...   ...    ...  ...  ...     ...       ...         ...   \n",
       "395  395  55.0  80.0  1.020  0.0  0.0  normal    normal  notpresent   \n",
       "396  396  42.0  70.0  1.025  0.0  0.0  normal    normal  notpresent   \n",
       "397  397  12.0  80.0  1.020  0.0  0.0  normal    normal  notpresent   \n",
       "398  398  17.0  60.0  1.025  0.0  0.0  normal    normal  notpresent   \n",
       "399  399  58.0  80.0  1.025  0.0  0.0  normal    normal  notpresent   \n",
       "\n",
       "             ba  ...  pcv    wc   rc  htn   dm  cad appet   pe  ane  \\\n",
       "0    notpresent  ...   44  7800  5.2  yes  yes   no  good   no   no   \n",
       "1    notpresent  ...   38  6000  NaN   no   no   no  good   no   no   \n",
       "2    notpresent  ...   31  7500  NaN   no  yes   no  poor   no  yes   \n",
       "3    notpresent  ...   32  6700  3.9  yes   no   no  poor  yes  yes   \n",
       "4    notpresent  ...   35  7300  4.6   no   no   no  good   no   no   \n",
       "..          ...  ...  ...   ...  ...  ...  ...  ...   ...  ...  ...   \n",
       "395  notpresent  ...   47  6700  4.9   no   no   no  good   no   no   \n",
       "396  notpresent  ...   54  7800  6.2   no   no   no  good   no   no   \n",
       "397  notpresent  ...   49  6600  5.4   no   no   no  good   no   no   \n",
       "398  notpresent  ...   51  7200  5.9   no   no   no  good   no   no   \n",
       "399  notpresent  ...   53  6800  6.1   no   no   no  good   no   no   \n",
       "\n",
       "    classification  \n",
       "0              ckd  \n",
       "1              ckd  \n",
       "2              ckd  \n",
       "3              ckd  \n",
       "4              ckd  \n",
       "..             ...  \n",
       "395         notckd  \n",
       "396         notckd  \n",
       "397         notckd  \n",
       "398         notckd  \n",
       "399         notckd  \n",
       "\n",
       "[400 rows x 26 columns]"
      ]
     },
     "execution_count": 4,
     "metadata": {},
     "output_type": "execute_result"
    }
   ],
   "source": [
    "dataset=pd.read_csv('kidney_disease.csv')\n",
    "dataset"
   ]
  },
  {
   "cell_type": "code",
   "execution_count": 5,
   "metadata": {},
   "outputs": [],
   "source": [
    "# STEP 4: Taking Care Of Missing Data"
   ]
  },
  {
   "cell_type": "code",
   "execution_count": 6,
   "metadata": {},
   "outputs": [],
   "source": [
    "dataset.fillna(dataset.mean(),inplace=True)"
   ]
  },
  {
   "cell_type": "code",
   "execution_count": 7,
   "metadata": {},
   "outputs": [
    {
     "data": {
      "text/plain": [
       "id                False\n",
       "age               False\n",
       "bp                False\n",
       "sg                False\n",
       "al                False\n",
       "su                False\n",
       "rbc                True\n",
       "pc                 True\n",
       "pcc                True\n",
       "ba                 True\n",
       "bgr               False\n",
       "bu                False\n",
       "sc                False\n",
       "sod               False\n",
       "pot               False\n",
       "hemo              False\n",
       "pcv                True\n",
       "wc                 True\n",
       "rc                 True\n",
       "htn                True\n",
       "dm                 True\n",
       "cad                True\n",
       "appet              True\n",
       "pe                 True\n",
       "ane                True\n",
       "classification    False\n",
       "dtype: bool"
      ]
     },
     "execution_count": 7,
     "metadata": {},
     "output_type": "execute_result"
    }
   ],
   "source": [
    "dataset.isnull().any()"
   ]
  },
  {
   "cell_type": "code",
   "execution_count": 8,
   "metadata": {},
   "outputs": [
    {
     "data": {
      "text/plain": [
       "normal      201\n",
       "abnormal     47\n",
       "Name: rbc, dtype: int64"
      ]
     },
     "execution_count": 8,
     "metadata": {},
     "output_type": "execute_result"
    }
   ],
   "source": [
    "dataset['rbc'].value_counts()"
   ]
  },
  {
   "cell_type": "code",
   "execution_count": 9,
   "metadata": {},
   "outputs": [],
   "source": [
    "dataset['rbc'].fillna('normal',inplace=True)"
   ]
  },
  {
   "cell_type": "code",
   "execution_count": 10,
   "metadata": {
    "scrolled": true
   },
   "outputs": [
    {
     "data": {
      "text/plain": [
       "normal      259\n",
       "abnormal     76\n",
       "Name: pc, dtype: int64"
      ]
     },
     "execution_count": 10,
     "metadata": {},
     "output_type": "execute_result"
    }
   ],
   "source": [
    "dataset['pc'].value_counts()"
   ]
  },
  {
   "cell_type": "code",
   "execution_count": 11,
   "metadata": {},
   "outputs": [],
   "source": [
    "dataset['pc'].fillna('normal',inplace=True)"
   ]
  },
  {
   "cell_type": "code",
   "execution_count": 12,
   "metadata": {},
   "outputs": [
    {
     "data": {
      "text/plain": [
       "notpresent    354\n",
       "present        42\n",
       "Name: pcc, dtype: int64"
      ]
     },
     "execution_count": 12,
     "metadata": {},
     "output_type": "execute_result"
    }
   ],
   "source": [
    "dataset['pcc'].value_counts()"
   ]
  },
  {
   "cell_type": "code",
   "execution_count": 13,
   "metadata": {},
   "outputs": [],
   "source": [
    "dataset['pcc'].fillna('notpresent',inplace=True)"
   ]
  },
  {
   "cell_type": "code",
   "execution_count": 14,
   "metadata": {},
   "outputs": [
    {
     "data": {
      "text/plain": [
       "notpresent    358\n",
       "present        42\n",
       "Name: pcc, dtype: int64"
      ]
     },
     "execution_count": 14,
     "metadata": {},
     "output_type": "execute_result"
    }
   ],
   "source": [
    "dataset['pcc'].value_counts()"
   ]
  },
  {
   "cell_type": "code",
   "execution_count": 15,
   "metadata": {},
   "outputs": [
    {
     "data": {
      "text/plain": [
       "notpresent    374\n",
       "present        22\n",
       "Name: ba, dtype: int64"
      ]
     },
     "execution_count": 15,
     "metadata": {},
     "output_type": "execute_result"
    }
   ],
   "source": [
    "dataset['ba'].value_counts()"
   ]
  },
  {
   "cell_type": "code",
   "execution_count": 16,
   "metadata": {},
   "outputs": [],
   "source": [
    "dataset['ba'].fillna('notpresent',inplace=True)"
   ]
  },
  {
   "cell_type": "code",
   "execution_count": 17,
   "metadata": {},
   "outputs": [
    {
     "data": {
      "text/plain": [
       "notpresent    378\n",
       "present        22\n",
       "Name: ba, dtype: int64"
      ]
     },
     "execution_count": 17,
     "metadata": {},
     "output_type": "execute_result"
    }
   ],
   "source": [
    "dataset['ba'].value_counts()"
   ]
  },
  {
   "cell_type": "code",
   "execution_count": 18,
   "metadata": {},
   "outputs": [
    {
     "data": {
      "text/plain": [
       "41      21\n",
       "52      21\n",
       "44      19\n",
       "48      19\n",
       "40      16\n",
       "43      14\n",
       "42      13\n",
       "45      13\n",
       "32      12\n",
       "28      12\n",
       "50      12\n",
       "33      12\n",
       "36      12\n",
       "34      11\n",
       "37      11\n",
       "35       9\n",
       "46       9\n",
       "29       9\n",
       "30       9\n",
       "31       8\n",
       "24       7\n",
       "39       7\n",
       "26       6\n",
       "38       5\n",
       "54       4\n",
       "49       4\n",
       "51       4\n",
       "47       4\n",
       "53       4\n",
       "22       3\n",
       "25       3\n",
       "27       3\n",
       "23       2\n",
       "19       2\n",
       "20       1\n",
       "15       1\n",
       "18       1\n",
       "9        1\n",
       "16       1\n",
       "17       1\n",
       "21       1\n",
       "\\t?      1\n",
       "14       1\n",
       "\\t43     1\n",
       "Name: pcv, dtype: int64"
      ]
     },
     "execution_count": 18,
     "metadata": {},
     "output_type": "execute_result"
    }
   ],
   "source": [
    "dataset['pcv'].value_counts()"
   ]
  },
  {
   "cell_type": "code",
   "execution_count": 19,
   "metadata": {},
   "outputs": [],
   "source": [
    "dataset['pcv'].fillna('52',inplace=True)"
   ]
  },
  {
   "cell_type": "code",
   "execution_count": 20,
   "metadata": {},
   "outputs": [
    {
     "data": {
      "text/plain": [
       "52      91\n",
       "41      21\n",
       "44      19\n",
       "48      19\n",
       "40      16\n",
       "43      14\n",
       "42      13\n",
       "45      13\n",
       "32      12\n",
       "28      12\n",
       "50      12\n",
       "33      12\n",
       "36      12\n",
       "34      11\n",
       "37      11\n",
       "35       9\n",
       "46       9\n",
       "29       9\n",
       "30       9\n",
       "31       8\n",
       "24       7\n",
       "39       7\n",
       "26       6\n",
       "38       5\n",
       "54       4\n",
       "49       4\n",
       "51       4\n",
       "47       4\n",
       "53       4\n",
       "22       3\n",
       "25       3\n",
       "27       3\n",
       "23       2\n",
       "19       2\n",
       "20       1\n",
       "15       1\n",
       "18       1\n",
       "9        1\n",
       "16       1\n",
       "17       1\n",
       "21       1\n",
       "\\t?      1\n",
       "14       1\n",
       "\\t43     1\n",
       "Name: pcv, dtype: int64"
      ]
     },
     "execution_count": 20,
     "metadata": {},
     "output_type": "execute_result"
    }
   ],
   "source": [
    "dataset['pcv'].value_counts()"
   ]
  },
  {
   "cell_type": "code",
   "execution_count": 21,
   "metadata": {},
   "outputs": [],
   "source": [
    "dataset[['pcv']] = dataset[['pcv']].replace('\\t43','52')"
   ]
  },
  {
   "cell_type": "code",
   "execution_count": 22,
   "metadata": {},
   "outputs": [
    {
     "data": {
      "text/plain": [
       "52     92\n",
       "41     21\n",
       "44     19\n",
       "48     19\n",
       "40     16\n",
       "43     14\n",
       "42     13\n",
       "45     13\n",
       "32     12\n",
       "28     12\n",
       "50     12\n",
       "33     12\n",
       "36     12\n",
       "34     11\n",
       "37     11\n",
       "30      9\n",
       "29      9\n",
       "35      9\n",
       "46      9\n",
       "31      8\n",
       "39      7\n",
       "24      7\n",
       "26      6\n",
       "38      5\n",
       "53      4\n",
       "49      4\n",
       "51      4\n",
       "54      4\n",
       "47      4\n",
       "25      3\n",
       "27      3\n",
       "22      3\n",
       "19      2\n",
       "23      2\n",
       "\\t?     1\n",
       "14      1\n",
       "18      1\n",
       "15      1\n",
       "20      1\n",
       "16      1\n",
       "21      1\n",
       "9       1\n",
       "17      1\n",
       "Name: pcv, dtype: int64"
      ]
     },
     "execution_count": 22,
     "metadata": {},
     "output_type": "execute_result"
    }
   ],
   "source": [
    "dataset['pcv'].value_counts()"
   ]
  },
  {
   "cell_type": "code",
   "execution_count": 23,
   "metadata": {},
   "outputs": [],
   "source": [
    "dataset[['pcv']] = dataset[['pcv']].replace('\\t?','52')"
   ]
  },
  {
   "cell_type": "code",
   "execution_count": 24,
   "metadata": {},
   "outputs": [
    {
     "data": {
      "text/plain": [
       "52    93\n",
       "41    21\n",
       "48    19\n",
       "44    19\n",
       "40    16\n",
       "43    14\n",
       "45    13\n",
       "42    13\n",
       "32    12\n",
       "50    12\n",
       "33    12\n",
       "28    12\n",
       "36    12\n",
       "34    11\n",
       "37    11\n",
       "29     9\n",
       "30     9\n",
       "35     9\n",
       "46     9\n",
       "31     8\n",
       "24     7\n",
       "39     7\n",
       "26     6\n",
       "38     5\n",
       "51     4\n",
       "54     4\n",
       "47     4\n",
       "49     4\n",
       "53     4\n",
       "25     3\n",
       "27     3\n",
       "22     3\n",
       "19     2\n",
       "23     2\n",
       "16     1\n",
       "20     1\n",
       "15     1\n",
       "14     1\n",
       "18     1\n",
       "21     1\n",
       "9      1\n",
       "17     1\n",
       "Name: pcv, dtype: int64"
      ]
     },
     "execution_count": 24,
     "metadata": {},
     "output_type": "execute_result"
    }
   ],
   "source": [
    "dataset['pcv'].value_counts()"
   ]
  },
  {
   "cell_type": "code",
   "execution_count": 25,
   "metadata": {},
   "outputs": [
    {
     "data": {
      "text/plain": [
       "9800      11\n",
       "6700      10\n",
       "9200       9\n",
       "7200       9\n",
       "9600       9\n",
       "          ..\n",
       "5900       1\n",
       "12200      1\n",
       "\\t8400     1\n",
       "14900      1\n",
       "4900       1\n",
       "Name: wc, Length: 92, dtype: int64"
      ]
     },
     "execution_count": 25,
     "metadata": {},
     "output_type": "execute_result"
    }
   ],
   "source": [
    "dataset['wc'].value_counts()"
   ]
  },
  {
   "cell_type": "code",
   "execution_count": 26,
   "metadata": {},
   "outputs": [],
   "source": [
    "dataset['wc'].fillna('9800',inplace=True)"
   ]
  },
  {
   "cell_type": "code",
   "execution_count": 27,
   "metadata": {},
   "outputs": [
    {
     "data": {
      "text/plain": [
       "9800      116\n",
       "6700       10\n",
       "9200        9\n",
       "7200        9\n",
       "9600        9\n",
       "         ... \n",
       "5900        1\n",
       "12200       1\n",
       "\\t8400      1\n",
       "14900       1\n",
       "4900        1\n",
       "Name: wc, Length: 92, dtype: int64"
      ]
     },
     "execution_count": 27,
     "metadata": {},
     "output_type": "execute_result"
    }
   ],
   "source": [
    "dataset['wc'].value_counts()"
   ]
  },
  {
   "cell_type": "code",
   "execution_count": 28,
   "metadata": {},
   "outputs": [],
   "source": [
    "dataset[['wc']] = dataset[['wc']].replace('\\t9800','9800')"
   ]
  },
  {
   "cell_type": "code",
   "execution_count": 29,
   "metadata": {},
   "outputs": [
    {
     "data": {
      "text/plain": [
       "9800      116\n",
       "6700       10\n",
       "9200        9\n",
       "7200        9\n",
       "9600        9\n",
       "         ... \n",
       "5900        1\n",
       "12200       1\n",
       "\\t8400      1\n",
       "14900       1\n",
       "4900        1\n",
       "Name: wc, Length: 92, dtype: int64"
      ]
     },
     "execution_count": 29,
     "metadata": {},
     "output_type": "execute_result"
    }
   ],
   "source": [
    "dataset['wc'].value_counts()"
   ]
  },
  {
   "cell_type": "code",
   "execution_count": 30,
   "metadata": {},
   "outputs": [
    {
     "data": {
      "text/plain": [
       "5.2    18\n",
       "4.5    16\n",
       "4.9    14\n",
       "4.7    11\n",
       "4.8    10\n",
       "3.9    10\n",
       "3.4     9\n",
       "4.6     9\n",
       "6.1     8\n",
       "5.9     8\n",
       "3.7     8\n",
       "5.0     8\n",
       "5.5     8\n",
       "5.3     7\n",
       "5.8     7\n",
       "3.8     7\n",
       "5.4     7\n",
       "4.3     6\n",
       "4.2     6\n",
       "5.6     6\n",
       "6.5     5\n",
       "6.2     5\n",
       "6.4     5\n",
       "4.4     5\n",
       "5.7     5\n",
       "4.1     5\n",
       "5.1     5\n",
       "3.2     5\n",
       "3.6     4\n",
       "6.3     4\n",
       "6.0     4\n",
       "3.3     3\n",
       "4.0     3\n",
       "4       3\n",
       "3.5     3\n",
       "3.0     2\n",
       "5       2\n",
       "2.8     2\n",
       "2.9     2\n",
       "2.6     2\n",
       "2.1     2\n",
       "3.1     2\n",
       "2.7     2\n",
       "2.5     2\n",
       "2.4     1\n",
       "3       1\n",
       "\\t?     1\n",
       "2.3     1\n",
       "8.0     1\n",
       "Name: rc, dtype: int64"
      ]
     },
     "execution_count": 30,
     "metadata": {},
     "output_type": "execute_result"
    }
   ],
   "source": [
    "dataset['rc'].value_counts()"
   ]
  },
  {
   "cell_type": "code",
   "execution_count": 31,
   "metadata": {},
   "outputs": [],
   "source": [
    "dataset['rc'].fillna('5.2',inplace=True)"
   ]
  },
  {
   "cell_type": "code",
   "execution_count": 32,
   "metadata": {},
   "outputs": [],
   "source": [
    "dataset[['rc']] = dataset[['rc']].replace('\\t?','5.2')"
   ]
  },
  {
   "cell_type": "code",
   "execution_count": 33,
   "metadata": {},
   "outputs": [
    {
     "data": {
      "text/plain": [
       "5.2    149\n",
       "4.5     16\n",
       "4.9     14\n",
       "4.7     11\n",
       "4.8     10\n",
       "3.9     10\n",
       "3.4      9\n",
       "4.6      9\n",
       "6.1      8\n",
       "5.9      8\n",
       "3.7      8\n",
       "5.0      8\n",
       "5.5      8\n",
       "5.3      7\n",
       "5.8      7\n",
       "3.8      7\n",
       "5.4      7\n",
       "4.3      6\n",
       "4.2      6\n",
       "5.6      6\n",
       "6.2      5\n",
       "6.4      5\n",
       "4.4      5\n",
       "5.7      5\n",
       "6.5      5\n",
       "5.1      5\n",
       "3.2      5\n",
       "4.1      5\n",
       "3.6      4\n",
       "6.0      4\n",
       "6.3      4\n",
       "3.3      3\n",
       "4.0      3\n",
       "4        3\n",
       "3.5      3\n",
       "3.0      2\n",
       "5        2\n",
       "2.8      2\n",
       "2.9      2\n",
       "2.6      2\n",
       "2.1      2\n",
       "3.1      2\n",
       "2.7      2\n",
       "2.5      2\n",
       "3        1\n",
       "2.3      1\n",
       "2.4      1\n",
       "8.0      1\n",
       "Name: rc, dtype: int64"
      ]
     },
     "execution_count": 33,
     "metadata": {},
     "output_type": "execute_result"
    }
   ],
   "source": [
    "dataset['rc'].value_counts()"
   ]
  },
  {
   "cell_type": "code",
   "execution_count": 34,
   "metadata": {},
   "outputs": [
    {
     "data": {
      "text/plain": [
       "no     251\n",
       "yes    147\n",
       "Name: htn, dtype: int64"
      ]
     },
     "execution_count": 34,
     "metadata": {},
     "output_type": "execute_result"
    }
   ],
   "source": [
    "dataset['htn'].value_counts()"
   ]
  },
  {
   "cell_type": "code",
   "execution_count": 35,
   "metadata": {},
   "outputs": [],
   "source": [
    "dataset['htn'].fillna('no',inplace=True)"
   ]
  },
  {
   "cell_type": "code",
   "execution_count": 36,
   "metadata": {},
   "outputs": [
    {
     "data": {
      "text/plain": [
       "no     253\n",
       "yes    147\n",
       "Name: htn, dtype: int64"
      ]
     },
     "execution_count": 36,
     "metadata": {},
     "output_type": "execute_result"
    }
   ],
   "source": [
    "dataset['htn'].value_counts()"
   ]
  },
  {
   "cell_type": "code",
   "execution_count": 37,
   "metadata": {},
   "outputs": [
    {
     "data": {
      "text/plain": [
       "no       258\n",
       "yes      134\n",
       "\\tno       3\n",
       "\\tyes      2\n",
       " yes       1\n",
       "Name: dm, dtype: int64"
      ]
     },
     "execution_count": 37,
     "metadata": {},
     "output_type": "execute_result"
    }
   ],
   "source": [
    "dataset['dm'].value_counts()"
   ]
  },
  {
   "cell_type": "code",
   "execution_count": 38,
   "metadata": {},
   "outputs": [],
   "source": [
    "dataset['dm'].fillna('no',inplace=True)"
   ]
  },
  {
   "cell_type": "code",
   "execution_count": 39,
   "metadata": {},
   "outputs": [],
   "source": [
    "dataset[['dm']] = dataset[['dm']].replace('\\tyes','yes')"
   ]
  },
  {
   "cell_type": "code",
   "execution_count": 40,
   "metadata": {},
   "outputs": [],
   "source": [
    "dataset[['dm']] = dataset[['dm']].replace('\\tno','no')"
   ]
  },
  {
   "cell_type": "code",
   "execution_count": 41,
   "metadata": {},
   "outputs": [],
   "source": [
    "dataset[['dm']] = dataset[['dm']].replace(' yes','yes')"
   ]
  },
  {
   "cell_type": "code",
   "execution_count": 42,
   "metadata": {},
   "outputs": [
    {
     "data": {
      "text/plain": [
       "no     263\n",
       "yes    137\n",
       "Name: dm, dtype: int64"
      ]
     },
     "execution_count": 42,
     "metadata": {},
     "output_type": "execute_result"
    }
   ],
   "source": [
    "dataset['dm'].value_counts()"
   ]
  },
  {
   "cell_type": "code",
   "execution_count": 43,
   "metadata": {},
   "outputs": [
    {
     "data": {
      "text/plain": [
       "no      362\n",
       "yes      34\n",
       "\\tno      2\n",
       "Name: cad, dtype: int64"
      ]
     },
     "execution_count": 43,
     "metadata": {},
     "output_type": "execute_result"
    }
   ],
   "source": [
    "dataset['cad'].value_counts()"
   ]
  },
  {
   "cell_type": "code",
   "execution_count": 44,
   "metadata": {},
   "outputs": [],
   "source": [
    "dataset['cad'].fillna('no',inplace=True)"
   ]
  },
  {
   "cell_type": "code",
   "execution_count": 45,
   "metadata": {},
   "outputs": [],
   "source": [
    "dataset[['cad']] = dataset[['cad']].replace('\\tno','no')"
   ]
  },
  {
   "cell_type": "code",
   "execution_count": 46,
   "metadata": {},
   "outputs": [
    {
     "data": {
      "text/plain": [
       "no     263\n",
       "yes    137\n",
       "Name: dm, dtype: int64"
      ]
     },
     "execution_count": 46,
     "metadata": {},
     "output_type": "execute_result"
    }
   ],
   "source": [
    "dataset['dm'].value_counts()"
   ]
  },
  {
   "cell_type": "code",
   "execution_count": 47,
   "metadata": {},
   "outputs": [
    {
     "data": {
      "text/plain": [
       "good    317\n",
       "poor     82\n",
       "Name: appet, dtype: int64"
      ]
     },
     "execution_count": 47,
     "metadata": {},
     "output_type": "execute_result"
    }
   ],
   "source": [
    "dataset['appet'].value_counts()"
   ]
  },
  {
   "cell_type": "code",
   "execution_count": 48,
   "metadata": {},
   "outputs": [],
   "source": [
    "dataset['appet'].fillna('good',inplace=True)"
   ]
  },
  {
   "cell_type": "code",
   "execution_count": 49,
   "metadata": {},
   "outputs": [
    {
     "data": {
      "text/plain": [
       "good    318\n",
       "poor     82\n",
       "Name: appet, dtype: int64"
      ]
     },
     "execution_count": 49,
     "metadata": {},
     "output_type": "execute_result"
    }
   ],
   "source": [
    "dataset['appet'].value_counts()"
   ]
  },
  {
   "cell_type": "code",
   "execution_count": 50,
   "metadata": {},
   "outputs": [
    {
     "data": {
      "text/plain": [
       "no     323\n",
       "yes     76\n",
       "Name: pe, dtype: int64"
      ]
     },
     "execution_count": 50,
     "metadata": {},
     "output_type": "execute_result"
    }
   ],
   "source": [
    "dataset['pe'].value_counts()"
   ]
  },
  {
   "cell_type": "code",
   "execution_count": 51,
   "metadata": {},
   "outputs": [],
   "source": [
    "dataset['pe'].fillna('no',inplace=True)"
   ]
  },
  {
   "cell_type": "code",
   "execution_count": 52,
   "metadata": {},
   "outputs": [
    {
     "data": {
      "text/plain": [
       "no     339\n",
       "yes     60\n",
       "Name: ane, dtype: int64"
      ]
     },
     "execution_count": 52,
     "metadata": {},
     "output_type": "execute_result"
    }
   ],
   "source": [
    "dataset['ane'].value_counts()"
   ]
  },
  {
   "cell_type": "code",
   "execution_count": 53,
   "metadata": {},
   "outputs": [],
   "source": [
    "dataset['ane'].fillna('no',inplace=True)"
   ]
  },
  {
   "cell_type": "code",
   "execution_count": 54,
   "metadata": {},
   "outputs": [
    {
     "data": {
      "text/plain": [
       "no     340\n",
       "yes     60\n",
       "Name: ane, dtype: int64"
      ]
     },
     "execution_count": 54,
     "metadata": {},
     "output_type": "execute_result"
    }
   ],
   "source": [
    "dataset['ane'].value_counts()"
   ]
  },
  {
   "cell_type": "code",
   "execution_count": 55,
   "metadata": {},
   "outputs": [
    {
     "data": {
      "text/plain": [
       "ckd       248\n",
       "notckd    150\n",
       "ckd\\t       2\n",
       "Name: classification, dtype: int64"
      ]
     },
     "execution_count": 55,
     "metadata": {},
     "output_type": "execute_result"
    }
   ],
   "source": [
    "dataset['classification'].value_counts()"
   ]
  },
  {
   "cell_type": "code",
   "execution_count": 56,
   "metadata": {},
   "outputs": [],
   "source": [
    "dataset[['classification']] = dataset[['classification']].replace('ckd\\t','ckd')"
   ]
  },
  {
   "cell_type": "code",
   "execution_count": 57,
   "metadata": {},
   "outputs": [
    {
     "data": {
      "text/plain": [
       "ckd       250\n",
       "notckd    150\n",
       "Name: classification, dtype: int64"
      ]
     },
     "execution_count": 57,
     "metadata": {},
     "output_type": "execute_result"
    }
   ],
   "source": [
    "dataset['classification'].value_counts()"
   ]
  },
  {
   "cell_type": "code",
   "execution_count": 58,
   "metadata": {},
   "outputs": [
    {
     "data": {
      "text/plain": [
       "9800      116\n",
       "6700       10\n",
       "9200        9\n",
       "7200        9\n",
       "9600        9\n",
       "         ... \n",
       "5900        1\n",
       "12200       1\n",
       "\\t8400      1\n",
       "14900       1\n",
       "4900        1\n",
       "Name: wc, Length: 92, dtype: int64"
      ]
     },
     "execution_count": 58,
     "metadata": {},
     "output_type": "execute_result"
    }
   ],
   "source": [
    "dataset['wc'].value_counts()"
   ]
  },
  {
   "cell_type": "code",
   "execution_count": 59,
   "metadata": {},
   "outputs": [],
   "source": [
    "dataset[['wc']] = dataset[['wc']].replace('\\t?','9800')"
   ]
  },
  {
   "cell_type": "code",
   "execution_count": 60,
   "metadata": {},
   "outputs": [
    {
     "data": {
      "text/plain": [
       "9800      117\n",
       "6700       10\n",
       "9200        9\n",
       "7200        9\n",
       "9600        9\n",
       "         ... \n",
       "5900        1\n",
       "12200       1\n",
       "\\t8400      1\n",
       "14900       1\n",
       "4900        1\n",
       "Name: wc, Length: 91, dtype: int64"
      ]
     },
     "execution_count": 60,
     "metadata": {},
     "output_type": "execute_result"
    }
   ],
   "source": [
    "dataset['wc'].value_counts()"
   ]
  },
  {
   "cell_type": "code",
   "execution_count": null,
   "metadata": {},
   "outputs": [],
   "source": []
  },
  {
   "cell_type": "code",
   "execution_count": null,
   "metadata": {},
   "outputs": [],
   "source": []
  },
  {
   "cell_type": "code",
   "execution_count": null,
   "metadata": {},
   "outputs": [],
   "source": []
  },
  {
   "cell_type": "code",
   "execution_count": 61,
   "metadata": {},
   "outputs": [
    {
     "data": {
      "text/plain": [
       "id                False\n",
       "age               False\n",
       "bp                False\n",
       "sg                False\n",
       "al                False\n",
       "su                False\n",
       "rbc               False\n",
       "pc                False\n",
       "pcc               False\n",
       "ba                False\n",
       "bgr               False\n",
       "bu                False\n",
       "sc                False\n",
       "sod               False\n",
       "pot               False\n",
       "hemo              False\n",
       "pcv               False\n",
       "wc                False\n",
       "rc                False\n",
       "htn               False\n",
       "dm                False\n",
       "cad               False\n",
       "appet             False\n",
       "pe                False\n",
       "ane               False\n",
       "classification    False\n",
       "dtype: bool"
      ]
     },
     "execution_count": 61,
     "metadata": {},
     "output_type": "execute_result"
    }
   ],
   "source": [
    "dataset.isnull().any()"
   ]
  },
  {
   "cell_type": "code",
   "execution_count": null,
   "metadata": {},
   "outputs": [],
   "source": []
  },
  {
   "cell_type": "code",
   "execution_count": 62,
   "metadata": {},
   "outputs": [],
   "source": [
    "# Independent and Dependent Variables"
   ]
  },
  {
   "cell_type": "code",
   "execution_count": 63,
   "metadata": {},
   "outputs": [
    {
     "data": {
      "text/plain": [
       "array([[0, 48.0, 80.0, ..., 'good', 'no', 'no'],\n",
       "       [1, 7.0, 50.0, ..., 'good', 'no', 'no'],\n",
       "       [2, 62.0, 80.0, ..., 'poor', 'no', 'yes'],\n",
       "       ...,\n",
       "       [397, 12.0, 80.0, ..., 'good', 'no', 'no'],\n",
       "       [398, 17.0, 60.0, ..., 'good', 'no', 'no'],\n",
       "       [399, 58.0, 80.0, ..., 'good', 'no', 'no']], dtype=object)"
      ]
     },
     "execution_count": 63,
     "metadata": {},
     "output_type": "execute_result"
    }
   ],
   "source": [
    "x=dataset.iloc[:,0:25].values\n",
    "x"
   ]
  },
  {
   "cell_type": "code",
   "execution_count": 64,
   "metadata": {},
   "outputs": [
    {
     "data": {
      "text/plain": [
       "(400, 25)"
      ]
     },
     "execution_count": 64,
     "metadata": {},
     "output_type": "execute_result"
    }
   ],
   "source": [
    "x.shape"
   ]
  },
  {
   "cell_type": "code",
   "execution_count": 65,
   "metadata": {},
   "outputs": [
    {
     "data": {
      "text/plain": [
       "array([['ckd'],\n",
       "       ['ckd'],\n",
       "       ['ckd'],\n",
       "       ['ckd'],\n",
       "       ['ckd'],\n",
       "       ['ckd'],\n",
       "       ['ckd'],\n",
       "       ['ckd'],\n",
       "       ['ckd'],\n",
       "       ['ckd'],\n",
       "       ['ckd'],\n",
       "       ['ckd'],\n",
       "       ['ckd'],\n",
       "       ['ckd'],\n",
       "       ['ckd'],\n",
       "       ['ckd'],\n",
       "       ['ckd'],\n",
       "       ['ckd'],\n",
       "       ['ckd'],\n",
       "       ['ckd'],\n",
       "       ['ckd'],\n",
       "       ['ckd'],\n",
       "       ['ckd'],\n",
       "       ['ckd'],\n",
       "       ['ckd'],\n",
       "       ['ckd'],\n",
       "       ['ckd'],\n",
       "       ['ckd'],\n",
       "       ['ckd'],\n",
       "       ['ckd'],\n",
       "       ['ckd'],\n",
       "       ['ckd'],\n",
       "       ['ckd'],\n",
       "       ['ckd'],\n",
       "       ['ckd'],\n",
       "       ['ckd'],\n",
       "       ['ckd'],\n",
       "       ['ckd'],\n",
       "       ['ckd'],\n",
       "       ['ckd'],\n",
       "       ['ckd'],\n",
       "       ['ckd'],\n",
       "       ['ckd'],\n",
       "       ['ckd'],\n",
       "       ['ckd'],\n",
       "       ['ckd'],\n",
       "       ['ckd'],\n",
       "       ['ckd'],\n",
       "       ['ckd'],\n",
       "       ['ckd'],\n",
       "       ['ckd'],\n",
       "       ['ckd'],\n",
       "       ['ckd'],\n",
       "       ['ckd'],\n",
       "       ['ckd'],\n",
       "       ['ckd'],\n",
       "       ['ckd'],\n",
       "       ['ckd'],\n",
       "       ['ckd'],\n",
       "       ['ckd'],\n",
       "       ['ckd'],\n",
       "       ['ckd'],\n",
       "       ['ckd'],\n",
       "       ['ckd'],\n",
       "       ['ckd'],\n",
       "       ['ckd'],\n",
       "       ['ckd'],\n",
       "       ['ckd'],\n",
       "       ['ckd'],\n",
       "       ['ckd'],\n",
       "       ['ckd'],\n",
       "       ['ckd'],\n",
       "       ['ckd'],\n",
       "       ['ckd'],\n",
       "       ['ckd'],\n",
       "       ['ckd'],\n",
       "       ['ckd'],\n",
       "       ['ckd'],\n",
       "       ['ckd'],\n",
       "       ['ckd'],\n",
       "       ['ckd'],\n",
       "       ['ckd'],\n",
       "       ['ckd'],\n",
       "       ['ckd'],\n",
       "       ['ckd'],\n",
       "       ['ckd'],\n",
       "       ['ckd'],\n",
       "       ['ckd'],\n",
       "       ['ckd'],\n",
       "       ['ckd'],\n",
       "       ['ckd'],\n",
       "       ['ckd'],\n",
       "       ['ckd'],\n",
       "       ['ckd'],\n",
       "       ['ckd'],\n",
       "       ['ckd'],\n",
       "       ['ckd'],\n",
       "       ['ckd'],\n",
       "       ['ckd'],\n",
       "       ['ckd'],\n",
       "       ['ckd'],\n",
       "       ['ckd'],\n",
       "       ['ckd'],\n",
       "       ['ckd'],\n",
       "       ['ckd'],\n",
       "       ['ckd'],\n",
       "       ['ckd'],\n",
       "       ['ckd'],\n",
       "       ['ckd'],\n",
       "       ['ckd'],\n",
       "       ['ckd'],\n",
       "       ['ckd'],\n",
       "       ['ckd'],\n",
       "       ['ckd'],\n",
       "       ['ckd'],\n",
       "       ['ckd'],\n",
       "       ['ckd'],\n",
       "       ['ckd'],\n",
       "       ['ckd'],\n",
       "       ['ckd'],\n",
       "       ['ckd'],\n",
       "       ['ckd'],\n",
       "       ['ckd'],\n",
       "       ['ckd'],\n",
       "       ['ckd'],\n",
       "       ['ckd'],\n",
       "       ['ckd'],\n",
       "       ['ckd'],\n",
       "       ['ckd'],\n",
       "       ['ckd'],\n",
       "       ['ckd'],\n",
       "       ['ckd'],\n",
       "       ['ckd'],\n",
       "       ['ckd'],\n",
       "       ['ckd'],\n",
       "       ['ckd'],\n",
       "       ['ckd'],\n",
       "       ['ckd'],\n",
       "       ['ckd'],\n",
       "       ['ckd'],\n",
       "       ['ckd'],\n",
       "       ['ckd'],\n",
       "       ['ckd'],\n",
       "       ['ckd'],\n",
       "       ['ckd'],\n",
       "       ['ckd'],\n",
       "       ['ckd'],\n",
       "       ['ckd'],\n",
       "       ['ckd'],\n",
       "       ['ckd'],\n",
       "       ['ckd'],\n",
       "       ['ckd'],\n",
       "       ['ckd'],\n",
       "       ['ckd'],\n",
       "       ['ckd'],\n",
       "       ['ckd'],\n",
       "       ['ckd'],\n",
       "       ['ckd'],\n",
       "       ['ckd'],\n",
       "       ['ckd'],\n",
       "       ['ckd'],\n",
       "       ['ckd'],\n",
       "       ['ckd'],\n",
       "       ['ckd'],\n",
       "       ['ckd'],\n",
       "       ['ckd'],\n",
       "       ['ckd'],\n",
       "       ['ckd'],\n",
       "       ['ckd'],\n",
       "       ['ckd'],\n",
       "       ['ckd'],\n",
       "       ['ckd'],\n",
       "       ['ckd'],\n",
       "       ['ckd'],\n",
       "       ['ckd'],\n",
       "       ['ckd'],\n",
       "       ['ckd'],\n",
       "       ['ckd'],\n",
       "       ['ckd'],\n",
       "       ['ckd'],\n",
       "       ['ckd'],\n",
       "       ['ckd'],\n",
       "       ['ckd'],\n",
       "       ['ckd'],\n",
       "       ['ckd'],\n",
       "       ['ckd'],\n",
       "       ['ckd'],\n",
       "       ['ckd'],\n",
       "       ['ckd'],\n",
       "       ['ckd'],\n",
       "       ['ckd'],\n",
       "       ['ckd'],\n",
       "       ['ckd'],\n",
       "       ['ckd'],\n",
       "       ['ckd'],\n",
       "       ['ckd'],\n",
       "       ['ckd'],\n",
       "       ['ckd'],\n",
       "       ['ckd'],\n",
       "       ['ckd'],\n",
       "       ['ckd'],\n",
       "       ['ckd'],\n",
       "       ['ckd'],\n",
       "       ['ckd'],\n",
       "       ['ckd'],\n",
       "       ['ckd'],\n",
       "       ['ckd'],\n",
       "       ['ckd'],\n",
       "       ['ckd'],\n",
       "       ['ckd'],\n",
       "       ['ckd'],\n",
       "       ['ckd'],\n",
       "       ['ckd'],\n",
       "       ['ckd'],\n",
       "       ['ckd'],\n",
       "       ['ckd'],\n",
       "       ['ckd'],\n",
       "       ['ckd'],\n",
       "       ['ckd'],\n",
       "       ['ckd'],\n",
       "       ['ckd'],\n",
       "       ['ckd'],\n",
       "       ['ckd'],\n",
       "       ['ckd'],\n",
       "       ['ckd'],\n",
       "       ['ckd'],\n",
       "       ['ckd'],\n",
       "       ['ckd'],\n",
       "       ['ckd'],\n",
       "       ['ckd'],\n",
       "       ['ckd'],\n",
       "       ['ckd'],\n",
       "       ['ckd'],\n",
       "       ['ckd'],\n",
       "       ['ckd'],\n",
       "       ['ckd'],\n",
       "       ['ckd'],\n",
       "       ['ckd'],\n",
       "       ['ckd'],\n",
       "       ['ckd'],\n",
       "       ['ckd'],\n",
       "       ['ckd'],\n",
       "       ['ckd'],\n",
       "       ['ckd'],\n",
       "       ['ckd'],\n",
       "       ['ckd'],\n",
       "       ['ckd'],\n",
       "       ['ckd'],\n",
       "       ['ckd'],\n",
       "       ['ckd'],\n",
       "       ['notckd'],\n",
       "       ['notckd'],\n",
       "       ['notckd'],\n",
       "       ['notckd'],\n",
       "       ['notckd'],\n",
       "       ['notckd'],\n",
       "       ['notckd'],\n",
       "       ['notckd'],\n",
       "       ['notckd'],\n",
       "       ['notckd'],\n",
       "       ['notckd'],\n",
       "       ['notckd'],\n",
       "       ['notckd'],\n",
       "       ['notckd'],\n",
       "       ['notckd'],\n",
       "       ['notckd'],\n",
       "       ['notckd'],\n",
       "       ['notckd'],\n",
       "       ['notckd'],\n",
       "       ['notckd'],\n",
       "       ['notckd'],\n",
       "       ['notckd'],\n",
       "       ['notckd'],\n",
       "       ['notckd'],\n",
       "       ['notckd'],\n",
       "       ['notckd'],\n",
       "       ['notckd'],\n",
       "       ['notckd'],\n",
       "       ['notckd'],\n",
       "       ['notckd'],\n",
       "       ['notckd'],\n",
       "       ['notckd'],\n",
       "       ['notckd'],\n",
       "       ['notckd'],\n",
       "       ['notckd'],\n",
       "       ['notckd'],\n",
       "       ['notckd'],\n",
       "       ['notckd'],\n",
       "       ['notckd'],\n",
       "       ['notckd'],\n",
       "       ['notckd'],\n",
       "       ['notckd'],\n",
       "       ['notckd'],\n",
       "       ['notckd'],\n",
       "       ['notckd'],\n",
       "       ['notckd'],\n",
       "       ['notckd'],\n",
       "       ['notckd'],\n",
       "       ['notckd'],\n",
       "       ['notckd'],\n",
       "       ['notckd'],\n",
       "       ['notckd'],\n",
       "       ['notckd'],\n",
       "       ['notckd'],\n",
       "       ['notckd'],\n",
       "       ['notckd'],\n",
       "       ['notckd'],\n",
       "       ['notckd'],\n",
       "       ['notckd'],\n",
       "       ['notckd'],\n",
       "       ['notckd'],\n",
       "       ['notckd'],\n",
       "       ['notckd'],\n",
       "       ['notckd'],\n",
       "       ['notckd'],\n",
       "       ['notckd'],\n",
       "       ['notckd'],\n",
       "       ['notckd'],\n",
       "       ['notckd'],\n",
       "       ['notckd'],\n",
       "       ['notckd'],\n",
       "       ['notckd'],\n",
       "       ['notckd'],\n",
       "       ['notckd'],\n",
       "       ['notckd'],\n",
       "       ['notckd'],\n",
       "       ['notckd'],\n",
       "       ['notckd'],\n",
       "       ['notckd'],\n",
       "       ['notckd'],\n",
       "       ['notckd'],\n",
       "       ['notckd'],\n",
       "       ['notckd'],\n",
       "       ['notckd'],\n",
       "       ['notckd'],\n",
       "       ['notckd'],\n",
       "       ['notckd'],\n",
       "       ['notckd'],\n",
       "       ['notckd'],\n",
       "       ['notckd'],\n",
       "       ['notckd'],\n",
       "       ['notckd'],\n",
       "       ['notckd'],\n",
       "       ['notckd'],\n",
       "       ['notckd'],\n",
       "       ['notckd'],\n",
       "       ['notckd'],\n",
       "       ['notckd'],\n",
       "       ['notckd'],\n",
       "       ['notckd'],\n",
       "       ['notckd'],\n",
       "       ['notckd'],\n",
       "       ['notckd'],\n",
       "       ['notckd'],\n",
       "       ['notckd'],\n",
       "       ['notckd'],\n",
       "       ['notckd'],\n",
       "       ['notckd'],\n",
       "       ['notckd'],\n",
       "       ['notckd'],\n",
       "       ['notckd'],\n",
       "       ['notckd'],\n",
       "       ['notckd'],\n",
       "       ['notckd'],\n",
       "       ['notckd'],\n",
       "       ['notckd'],\n",
       "       ['notckd'],\n",
       "       ['notckd'],\n",
       "       ['notckd'],\n",
       "       ['notckd'],\n",
       "       ['notckd'],\n",
       "       ['notckd'],\n",
       "       ['notckd'],\n",
       "       ['notckd'],\n",
       "       ['notckd'],\n",
       "       ['notckd'],\n",
       "       ['notckd'],\n",
       "       ['notckd'],\n",
       "       ['notckd'],\n",
       "       ['notckd'],\n",
       "       ['notckd'],\n",
       "       ['notckd'],\n",
       "       ['notckd'],\n",
       "       ['notckd'],\n",
       "       ['notckd'],\n",
       "       ['notckd'],\n",
       "       ['notckd'],\n",
       "       ['notckd'],\n",
       "       ['notckd'],\n",
       "       ['notckd'],\n",
       "       ['notckd'],\n",
       "       ['notckd'],\n",
       "       ['notckd'],\n",
       "       ['notckd'],\n",
       "       ['notckd'],\n",
       "       ['notckd'],\n",
       "       ['notckd'],\n",
       "       ['notckd'],\n",
       "       ['notckd'],\n",
       "       ['notckd']], dtype=object)"
      ]
     },
     "execution_count": 65,
     "metadata": {},
     "output_type": "execute_result"
    }
   ],
   "source": [
    "y=dataset.iloc[:,25:26].values\n",
    "y"
   ]
  },
  {
   "cell_type": "code",
   "execution_count": 66,
   "metadata": {},
   "outputs": [],
   "source": [
    "# Step 5: Encoding Categorical text variables"
   ]
  },
  {
   "cell_type": "code",
   "execution_count": 67,
   "metadata": {},
   "outputs": [],
   "source": [
    "import sklearn\n",
    "from sklearn.compose import ColumnTransformer\n",
    "from sklearn.preprocessing import OneHotEncoder"
   ]
  },
  {
   "cell_type": "code",
   "execution_count": 68,
   "metadata": {},
   "outputs": [
    {
     "data": {
      "text/plain": [
       "array([[0.0, 1.0, 0, ..., 'good', 'no', 'no'],\n",
       "       [0.0, 1.0, 1, ..., 'good', 'no', 'no'],\n",
       "       [0.0, 1.0, 2, ..., 'poor', 'no', 'yes'],\n",
       "       ...,\n",
       "       [0.0, 1.0, 397, ..., 'good', 'no', 'no'],\n",
       "       [0.0, 1.0, 398, ..., 'good', 'no', 'no'],\n",
       "       [0.0, 1.0, 399, ..., 'good', 'no', 'no']], dtype=object)"
      ]
     },
     "execution_count": 68,
     "metadata": {},
     "output_type": "execute_result"
    }
   ],
   "source": [
    "ct=ColumnTransformer([(\"on\",OneHotEncoder(),[6])],remainder=\"passthrough\")\n",
    "x=ct.fit_transform(x)\n",
    "x"
   ]
  },
  {
   "cell_type": "code",
   "execution_count": 69,
   "metadata": {},
   "outputs": [],
   "source": [
    "# Removing dummy variable"
   ]
  },
  {
   "cell_type": "code",
   "execution_count": 70,
   "metadata": {},
   "outputs": [
    {
     "data": {
      "text/plain": [
       "(400, 26)"
      ]
     },
     "execution_count": 70,
     "metadata": {},
     "output_type": "execute_result"
    }
   ],
   "source": [
    "x.shape"
   ]
  },
  {
   "cell_type": "code",
   "execution_count": 71,
   "metadata": {},
   "outputs": [
    {
     "data": {
      "text/plain": [
       "array([[1.0, 0, 48.0, ..., 'good', 'no', 'no'],\n",
       "       [1.0, 1, 7.0, ..., 'good', 'no', 'no'],\n",
       "       [1.0, 2, 62.0, ..., 'poor', 'no', 'yes'],\n",
       "       ...,\n",
       "       [1.0, 397, 12.0, ..., 'good', 'no', 'no'],\n",
       "       [1.0, 398, 17.0, ..., 'good', 'no', 'no'],\n",
       "       [1.0, 399, 58.0, ..., 'good', 'no', 'no']], dtype=object)"
      ]
     },
     "execution_count": 71,
     "metadata": {},
     "output_type": "execute_result"
    }
   ],
   "source": [
    "x=x[:,1:]\n",
    "x"
   ]
  },
  {
   "cell_type": "code",
   "execution_count": 72,
   "metadata": {},
   "outputs": [
    {
     "data": {
      "text/plain": [
       "(400, 25)"
      ]
     },
     "execution_count": 72,
     "metadata": {},
     "output_type": "execute_result"
    }
   ],
   "source": [
    "x.shape"
   ]
  },
  {
   "cell_type": "code",
   "execution_count": 73,
   "metadata": {},
   "outputs": [
    {
     "data": {
      "text/plain": [
       "array([[0.0, 1.0, 1.0, ..., 'good', 'no', 'no'],\n",
       "       [0.0, 1.0, 1.0, ..., 'good', 'no', 'no'],\n",
       "       [0.0, 1.0, 1.0, ..., 'poor', 'no', 'yes'],\n",
       "       ...,\n",
       "       [0.0, 1.0, 1.0, ..., 'good', 'no', 'no'],\n",
       "       [0.0, 1.0, 1.0, ..., 'good', 'no', 'no'],\n",
       "       [0.0, 1.0, 1.0, ..., 'good', 'no', 'no']], dtype=object)"
      ]
     },
     "execution_count": 73,
     "metadata": {},
     "output_type": "execute_result"
    }
   ],
   "source": [
    "ct=ColumnTransformer([(\"on\",OneHotEncoder(),[7])],remainder=\"passthrough\")\n",
    "x=ct.fit_transform(x)\n",
    "x"
   ]
  },
  {
   "cell_type": "code",
   "execution_count": 74,
   "metadata": {},
   "outputs": [
    {
     "data": {
      "text/plain": [
       "(400, 26)"
      ]
     },
     "execution_count": 74,
     "metadata": {},
     "output_type": "execute_result"
    }
   ],
   "source": [
    "x.shape"
   ]
  },
  {
   "cell_type": "code",
   "execution_count": 75,
   "metadata": {},
   "outputs": [
    {
     "data": {
      "text/plain": [
       "array([[1.0, 1.0, 0, ..., 'good', 'no', 'no'],\n",
       "       [1.0, 1.0, 1, ..., 'good', 'no', 'no'],\n",
       "       [1.0, 1.0, 2, ..., 'poor', 'no', 'yes'],\n",
       "       ...,\n",
       "       [1.0, 1.0, 397, ..., 'good', 'no', 'no'],\n",
       "       [1.0, 1.0, 398, ..., 'good', 'no', 'no'],\n",
       "       [1.0, 1.0, 399, ..., 'good', 'no', 'no']], dtype=object)"
      ]
     },
     "execution_count": 75,
     "metadata": {},
     "output_type": "execute_result"
    }
   ],
   "source": [
    "x=x[:,1:]\n",
    "x"
   ]
  },
  {
   "cell_type": "code",
   "execution_count": 76,
   "metadata": {},
   "outputs": [
    {
     "data": {
      "text/plain": [
       "(400, 25)"
      ]
     },
     "execution_count": 76,
     "metadata": {},
     "output_type": "execute_result"
    }
   ],
   "source": [
    "x.shape"
   ]
  },
  {
   "cell_type": "code",
   "execution_count": 77,
   "metadata": {},
   "outputs": [
    {
     "data": {
      "text/plain": [
       "array([[1.0, 0.0, 1.0, ..., 'good', 'no', 'no'],\n",
       "       [1.0, 0.0, 1.0, ..., 'good', 'no', 'no'],\n",
       "       [1.0, 0.0, 1.0, ..., 'poor', 'no', 'yes'],\n",
       "       ...,\n",
       "       [1.0, 0.0, 1.0, ..., 'good', 'no', 'no'],\n",
       "       [1.0, 0.0, 1.0, ..., 'good', 'no', 'no'],\n",
       "       [1.0, 0.0, 1.0, ..., 'good', 'no', 'no']], dtype=object)"
      ]
     },
     "execution_count": 77,
     "metadata": {},
     "output_type": "execute_result"
    }
   ],
   "source": [
    "ct=ColumnTransformer([(\"on\",OneHotEncoder(),[8])],remainder=\"passthrough\")\n",
    "x=ct.fit_transform(x)\n",
    "x"
   ]
  },
  {
   "cell_type": "code",
   "execution_count": 78,
   "metadata": {},
   "outputs": [
    {
     "data": {
      "text/plain": [
       "(400, 26)"
      ]
     },
     "execution_count": 78,
     "metadata": {},
     "output_type": "execute_result"
    }
   ],
   "source": [
    "x.shape"
   ]
  },
  {
   "cell_type": "code",
   "execution_count": 79,
   "metadata": {},
   "outputs": [
    {
     "data": {
      "text/plain": [
       "array([[0.0, 1.0, 1.0, ..., 'good', 'no', 'no'],\n",
       "       [0.0, 1.0, 1.0, ..., 'good', 'no', 'no'],\n",
       "       [0.0, 1.0, 1.0, ..., 'poor', 'no', 'yes'],\n",
       "       ...,\n",
       "       [0.0, 1.0, 1.0, ..., 'good', 'no', 'no'],\n",
       "       [0.0, 1.0, 1.0, ..., 'good', 'no', 'no'],\n",
       "       [0.0, 1.0, 1.0, ..., 'good', 'no', 'no']], dtype=object)"
      ]
     },
     "execution_count": 79,
     "metadata": {},
     "output_type": "execute_result"
    }
   ],
   "source": [
    "x=x[:,1:]\n",
    "x"
   ]
  },
  {
   "cell_type": "code",
   "execution_count": 80,
   "metadata": {},
   "outputs": [
    {
     "data": {
      "text/plain": [
       "(400, 25)"
      ]
     },
     "execution_count": 80,
     "metadata": {},
     "output_type": "execute_result"
    }
   ],
   "source": [
    "x.shape"
   ]
  },
  {
   "cell_type": "code",
   "execution_count": 81,
   "metadata": {},
   "outputs": [
    {
     "data": {
      "text/plain": [
       "array([[1.0, 0.0, 0.0, ..., 'good', 'no', 'no'],\n",
       "       [1.0, 0.0, 0.0, ..., 'good', 'no', 'no'],\n",
       "       [1.0, 0.0, 0.0, ..., 'poor', 'no', 'yes'],\n",
       "       ...,\n",
       "       [1.0, 0.0, 0.0, ..., 'good', 'no', 'no'],\n",
       "       [1.0, 0.0, 0.0, ..., 'good', 'no', 'no'],\n",
       "       [1.0, 0.0, 0.0, ..., 'good', 'no', 'no']], dtype=object)"
      ]
     },
     "execution_count": 81,
     "metadata": {},
     "output_type": "execute_result"
    }
   ],
   "source": [
    "ct=ColumnTransformer([(\"on\",OneHotEncoder(),[9])],remainder=\"passthrough\")\n",
    "x=ct.fit_transform(x)\n",
    "x"
   ]
  },
  {
   "cell_type": "code",
   "execution_count": 82,
   "metadata": {},
   "outputs": [
    {
     "data": {
      "text/plain": [
       "(400, 26)"
      ]
     },
     "execution_count": 82,
     "metadata": {},
     "output_type": "execute_result"
    }
   ],
   "source": [
    "x.shape"
   ]
  },
  {
   "cell_type": "code",
   "execution_count": 83,
   "metadata": {},
   "outputs": [
    {
     "data": {
      "text/plain": [
       "array([[0.0, 0.0, 1.0, ..., 'good', 'no', 'no'],\n",
       "       [0.0, 0.0, 1.0, ..., 'good', 'no', 'no'],\n",
       "       [0.0, 0.0, 1.0, ..., 'poor', 'no', 'yes'],\n",
       "       ...,\n",
       "       [0.0, 0.0, 1.0, ..., 'good', 'no', 'no'],\n",
       "       [0.0, 0.0, 1.0, ..., 'good', 'no', 'no'],\n",
       "       [0.0, 0.0, 1.0, ..., 'good', 'no', 'no']], dtype=object)"
      ]
     },
     "execution_count": 83,
     "metadata": {},
     "output_type": "execute_result"
    }
   ],
   "source": [
    "x=x[:,1:]\n",
    "x"
   ]
  },
  {
   "cell_type": "code",
   "execution_count": 84,
   "metadata": {},
   "outputs": [
    {
     "data": {
      "text/plain": [
       "(400, 25)"
      ]
     },
     "execution_count": 84,
     "metadata": {},
     "output_type": "execute_result"
    }
   ],
   "source": [
    "x.shape"
   ]
  },
  {
   "cell_type": "code",
   "execution_count": 85,
   "metadata": {},
   "outputs": [
    {
     "data": {
      "text/plain": [
       "array([[0.0, 1.0, 0.0, ..., 'good', 'no', 'no'],\n",
       "       [1.0, 0.0, 0.0, ..., 'good', 'no', 'no'],\n",
       "       [1.0, 0.0, 0.0, ..., 'poor', 'no', 'yes'],\n",
       "       ...,\n",
       "       [1.0, 0.0, 0.0, ..., 'good', 'no', 'no'],\n",
       "       [1.0, 0.0, 0.0, ..., 'good', 'no', 'no'],\n",
       "       [1.0, 0.0, 0.0, ..., 'good', 'no', 'no']], dtype=object)"
      ]
     },
     "execution_count": 85,
     "metadata": {},
     "output_type": "execute_result"
    }
   ],
   "source": [
    "ct=ColumnTransformer([(\"on\",OneHotEncoder(),[19])],remainder=\"passthrough\")\n",
    "x=ct.fit_transform(x)\n",
    "x"
   ]
  },
  {
   "cell_type": "code",
   "execution_count": 86,
   "metadata": {},
   "outputs": [
    {
     "data": {
      "text/plain": [
       "(400, 26)"
      ]
     },
     "execution_count": 86,
     "metadata": {},
     "output_type": "execute_result"
    }
   ],
   "source": [
    "x.shape"
   ]
  },
  {
   "cell_type": "code",
   "execution_count": 87,
   "metadata": {},
   "outputs": [
    {
     "data": {
      "text/plain": [
       "array([[1.0, 0.0, 0.0, ..., 'good', 'no', 'no'],\n",
       "       [0.0, 0.0, 0.0, ..., 'good', 'no', 'no'],\n",
       "       [0.0, 0.0, 0.0, ..., 'poor', 'no', 'yes'],\n",
       "       ...,\n",
       "       [0.0, 0.0, 0.0, ..., 'good', 'no', 'no'],\n",
       "       [0.0, 0.0, 0.0, ..., 'good', 'no', 'no'],\n",
       "       [0.0, 0.0, 0.0, ..., 'good', 'no', 'no']], dtype=object)"
      ]
     },
     "execution_count": 87,
     "metadata": {},
     "output_type": "execute_result"
    }
   ],
   "source": [
    "x=x[:,1:]\n",
    "x"
   ]
  },
  {
   "cell_type": "code",
   "execution_count": 88,
   "metadata": {},
   "outputs": [
    {
     "data": {
      "text/plain": [
       "(400, 25)"
      ]
     },
     "execution_count": 88,
     "metadata": {},
     "output_type": "execute_result"
    }
   ],
   "source": [
    "x.shape"
   ]
  },
  {
   "cell_type": "code",
   "execution_count": 89,
   "metadata": {},
   "outputs": [
    {
     "data": {
      "text/plain": [
       "array([[0.0, 1.0, 1.0, ..., 'good', 'no', 'no'],\n",
       "       [1.0, 0.0, 0.0, ..., 'good', 'no', 'no'],\n",
       "       [0.0, 1.0, 0.0, ..., 'poor', 'no', 'yes'],\n",
       "       ...,\n",
       "       [1.0, 0.0, 0.0, ..., 'good', 'no', 'no'],\n",
       "       [1.0, 0.0, 0.0, ..., 'good', 'no', 'no'],\n",
       "       [1.0, 0.0, 0.0, ..., 'good', 'no', 'no']], dtype=object)"
      ]
     },
     "execution_count": 89,
     "metadata": {},
     "output_type": "execute_result"
    }
   ],
   "source": [
    "ct=ColumnTransformer([(\"on\",OneHotEncoder(),[20])],remainder=\"passthrough\")\n",
    "x=ct.fit_transform(x)\n",
    "x"
   ]
  },
  {
   "cell_type": "code",
   "execution_count": 90,
   "metadata": {},
   "outputs": [
    {
     "data": {
      "text/plain": [
       "(400, 26)"
      ]
     },
     "execution_count": 90,
     "metadata": {},
     "output_type": "execute_result"
    }
   ],
   "source": [
    "x.shape"
   ]
  },
  {
   "cell_type": "code",
   "execution_count": 91,
   "metadata": {},
   "outputs": [
    {
     "data": {
      "text/plain": [
       "array([[1.0, 1.0, 0.0, ..., 'good', 'no', 'no'],\n",
       "       [0.0, 0.0, 0.0, ..., 'good', 'no', 'no'],\n",
       "       [1.0, 0.0, 0.0, ..., 'poor', 'no', 'yes'],\n",
       "       ...,\n",
       "       [0.0, 0.0, 0.0, ..., 'good', 'no', 'no'],\n",
       "       [0.0, 0.0, 0.0, ..., 'good', 'no', 'no'],\n",
       "       [0.0, 0.0, 0.0, ..., 'good', 'no', 'no']], dtype=object)"
      ]
     },
     "execution_count": 91,
     "metadata": {},
     "output_type": "execute_result"
    }
   ],
   "source": [
    "x=x[:,1:]\n",
    "x"
   ]
  },
  {
   "cell_type": "code",
   "execution_count": 92,
   "metadata": {},
   "outputs": [
    {
     "data": {
      "text/plain": [
       "(400, 25)"
      ]
     },
     "execution_count": 92,
     "metadata": {},
     "output_type": "execute_result"
    }
   ],
   "source": [
    "x.shape"
   ]
  },
  {
   "cell_type": "code",
   "execution_count": 93,
   "metadata": {},
   "outputs": [
    {
     "data": {
      "text/plain": [
       "array([[1.0, 0.0, 1.0, ..., 'good', 'no', 'no'],\n",
       "       [1.0, 0.0, 0.0, ..., 'good', 'no', 'no'],\n",
       "       [1.0, 0.0, 1.0, ..., 'poor', 'no', 'yes'],\n",
       "       ...,\n",
       "       [1.0, 0.0, 0.0, ..., 'good', 'no', 'no'],\n",
       "       [1.0, 0.0, 0.0, ..., 'good', 'no', 'no'],\n",
       "       [1.0, 0.0, 0.0, ..., 'good', 'no', 'no']], dtype=object)"
      ]
     },
     "execution_count": 93,
     "metadata": {},
     "output_type": "execute_result"
    }
   ],
   "source": [
    "ct=ColumnTransformer([(\"on\",OneHotEncoder(),[21])],remainder=\"passthrough\")\n",
    "x=ct.fit_transform(x)\n",
    "x"
   ]
  },
  {
   "cell_type": "code",
   "execution_count": 94,
   "metadata": {},
   "outputs": [
    {
     "data": {
      "text/plain": [
       "(400, 26)"
      ]
     },
     "execution_count": 94,
     "metadata": {},
     "output_type": "execute_result"
    }
   ],
   "source": [
    "x.shape"
   ]
  },
  {
   "cell_type": "code",
   "execution_count": 95,
   "metadata": {},
   "outputs": [
    {
     "data": {
      "text/plain": [
       "array([[0.0, 1.0, 1.0, ..., 'good', 'no', 'no'],\n",
       "       [0.0, 0.0, 0.0, ..., 'good', 'no', 'no'],\n",
       "       [0.0, 1.0, 0.0, ..., 'poor', 'no', 'yes'],\n",
       "       ...,\n",
       "       [0.0, 0.0, 0.0, ..., 'good', 'no', 'no'],\n",
       "       [0.0, 0.0, 0.0, ..., 'good', 'no', 'no'],\n",
       "       [0.0, 0.0, 0.0, ..., 'good', 'no', 'no']], dtype=object)"
      ]
     },
     "execution_count": 95,
     "metadata": {},
     "output_type": "execute_result"
    }
   ],
   "source": [
    "x=x[:,1:]\n",
    "x"
   ]
  },
  {
   "cell_type": "code",
   "execution_count": 96,
   "metadata": {},
   "outputs": [
    {
     "data": {
      "text/plain": [
       "(400, 25)"
      ]
     },
     "execution_count": 96,
     "metadata": {},
     "output_type": "execute_result"
    }
   ],
   "source": [
    "x.shape"
   ]
  },
  {
   "cell_type": "code",
   "execution_count": 97,
   "metadata": {},
   "outputs": [
    {
     "data": {
      "text/plain": [
       "array([[1.0, 0.0, 0.0, ..., '5.2', 'no', 'no'],\n",
       "       [1.0, 0.0, 0.0, ..., '5.2', 'no', 'no'],\n",
       "       [0.0, 1.0, 0.0, ..., '5.2', 'no', 'yes'],\n",
       "       ...,\n",
       "       [1.0, 0.0, 0.0, ..., '5.4', 'no', 'no'],\n",
       "       [1.0, 0.0, 0.0, ..., '5.9', 'no', 'no'],\n",
       "       [1.0, 0.0, 0.0, ..., '6.1', 'no', 'no']], dtype=object)"
      ]
     },
     "execution_count": 97,
     "metadata": {},
     "output_type": "execute_result"
    }
   ],
   "source": [
    "ct=ColumnTransformer([(\"on\",OneHotEncoder(),[22])],remainder=\"passthrough\")\n",
    "x=ct.fit_transform(x)\n",
    "x"
   ]
  },
  {
   "cell_type": "code",
   "execution_count": 98,
   "metadata": {},
   "outputs": [
    {
     "data": {
      "text/plain": [
       "(400, 26)"
      ]
     },
     "execution_count": 98,
     "metadata": {},
     "output_type": "execute_result"
    }
   ],
   "source": [
    "x.shape"
   ]
  },
  {
   "cell_type": "code",
   "execution_count": 99,
   "metadata": {},
   "outputs": [
    {
     "data": {
      "text/plain": [
       "array([[0.0, 0.0, 1.0, ..., '5.2', 'no', 'no'],\n",
       "       [0.0, 0.0, 0.0, ..., '5.2', 'no', 'no'],\n",
       "       [1.0, 0.0, 1.0, ..., '5.2', 'no', 'yes'],\n",
       "       ...,\n",
       "       [0.0, 0.0, 0.0, ..., '5.4', 'no', 'no'],\n",
       "       [0.0, 0.0, 0.0, ..., '5.9', 'no', 'no'],\n",
       "       [0.0, 0.0, 0.0, ..., '6.1', 'no', 'no']], dtype=object)"
      ]
     },
     "execution_count": 99,
     "metadata": {},
     "output_type": "execute_result"
    }
   ],
   "source": [
    "x=x[:,1:]\n",
    "x"
   ]
  },
  {
   "cell_type": "code",
   "execution_count": 100,
   "metadata": {},
   "outputs": [
    {
     "data": {
      "text/plain": [
       "(400, 25)"
      ]
     },
     "execution_count": 100,
     "metadata": {},
     "output_type": "execute_result"
    }
   ],
   "source": [
    "x.shape"
   ]
  },
  {
   "cell_type": "code",
   "execution_count": 101,
   "metadata": {},
   "outputs": [
    {
     "data": {
      "text/plain": [
       "array([[1.0, 0.0, 0.0, ..., '7800', '5.2', 'no'],\n",
       "       [1.0, 0.0, 0.0, ..., '6000', '5.2', 'no'],\n",
       "       [1.0, 0.0, 1.0, ..., '7500', '5.2', 'yes'],\n",
       "       ...,\n",
       "       [1.0, 0.0, 0.0, ..., '6600', '5.4', 'no'],\n",
       "       [1.0, 0.0, 0.0, ..., '7200', '5.9', 'no'],\n",
       "       [1.0, 0.0, 0.0, ..., '6800', '6.1', 'no']], dtype=object)"
      ]
     },
     "execution_count": 101,
     "metadata": {},
     "output_type": "execute_result"
    }
   ],
   "source": [
    "ct=ColumnTransformer([(\"on\",OneHotEncoder(),[23])],remainder=\"passthrough\")\n",
    "x=ct.fit_transform(x)\n",
    "x"
   ]
  },
  {
   "cell_type": "code",
   "execution_count": 102,
   "metadata": {},
   "outputs": [
    {
     "data": {
      "text/plain": [
       "(400, 26)"
      ]
     },
     "execution_count": 102,
     "metadata": {},
     "output_type": "execute_result"
    }
   ],
   "source": [
    "x.shape"
   ]
  },
  {
   "cell_type": "code",
   "execution_count": 103,
   "metadata": {},
   "outputs": [
    {
     "data": {
      "text/plain": [
       "array([[0.0, 0.0, 0.0, ..., '7800', '5.2', 'no'],\n",
       "       [0.0, 0.0, 0.0, ..., '6000', '5.2', 'no'],\n",
       "       [0.0, 1.0, 0.0, ..., '7500', '5.2', 'yes'],\n",
       "       ...,\n",
       "       [0.0, 0.0, 0.0, ..., '6600', '5.4', 'no'],\n",
       "       [0.0, 0.0, 0.0, ..., '7200', '5.9', 'no'],\n",
       "       [0.0, 0.0, 0.0, ..., '6800', '6.1', 'no']], dtype=object)"
      ]
     },
     "execution_count": 103,
     "metadata": {},
     "output_type": "execute_result"
    }
   ],
   "source": [
    "x=x[:,1:]\n",
    "x"
   ]
  },
  {
   "cell_type": "code",
   "execution_count": 104,
   "metadata": {},
   "outputs": [
    {
     "data": {
      "text/plain": [
       "(400, 25)"
      ]
     },
     "execution_count": 104,
     "metadata": {},
     "output_type": "execute_result"
    }
   ],
   "source": [
    "x.shape"
   ]
  },
  {
   "cell_type": "code",
   "execution_count": 105,
   "metadata": {},
   "outputs": [
    {
     "data": {
      "text/plain": [
       "array([[1.0, 0.0, 0.0, ..., '44', '7800', '5.2'],\n",
       "       [1.0, 0.0, 0.0, ..., '38', '6000', '5.2'],\n",
       "       [0.0, 1.0, 0.0, ..., '31', '7500', '5.2'],\n",
       "       ...,\n",
       "       [1.0, 0.0, 0.0, ..., '49', '6600', '5.4'],\n",
       "       [1.0, 0.0, 0.0, ..., '51', '7200', '5.9'],\n",
       "       [1.0, 0.0, 0.0, ..., '53', '6800', '6.1']], dtype=object)"
      ]
     },
     "execution_count": 105,
     "metadata": {},
     "output_type": "execute_result"
    }
   ],
   "source": [
    "ct=ColumnTransformer([(\"on\",OneHotEncoder(),[24])],remainder=\"passthrough\")\n",
    "x=ct.fit_transform(x)\n",
    "x"
   ]
  },
  {
   "cell_type": "code",
   "execution_count": 106,
   "metadata": {},
   "outputs": [
    {
     "data": {
      "text/plain": [
       "(400, 26)"
      ]
     },
     "execution_count": 106,
     "metadata": {},
     "output_type": "execute_result"
    }
   ],
   "source": [
    "x.shape"
   ]
  },
  {
   "cell_type": "code",
   "execution_count": 107,
   "metadata": {},
   "outputs": [
    {
     "data": {
      "text/plain": [
       "array([[0.0, 0.0, 0.0, ..., '44', '7800', '5.2'],\n",
       "       [0.0, 0.0, 0.0, ..., '38', '6000', '5.2'],\n",
       "       [1.0, 0.0, 1.0, ..., '31', '7500', '5.2'],\n",
       "       ...,\n",
       "       [0.0, 0.0, 0.0, ..., '49', '6600', '5.4'],\n",
       "       [0.0, 0.0, 0.0, ..., '51', '7200', '5.9'],\n",
       "       [0.0, 0.0, 0.0, ..., '53', '6800', '6.1']], dtype=object)"
      ]
     },
     "execution_count": 107,
     "metadata": {},
     "output_type": "execute_result"
    }
   ],
   "source": [
    "x=x[:,1:]\n",
    "x"
   ]
  },
  {
   "cell_type": "code",
   "execution_count": 108,
   "metadata": {},
   "outputs": [
    {
     "data": {
      "text/plain": [
       "(400, 25)"
      ]
     },
     "execution_count": 108,
     "metadata": {},
     "output_type": "execute_result"
    }
   ],
   "source": [
    "x.shape"
   ]
  },
  {
   "cell_type": "code",
   "execution_count": 109,
   "metadata": {},
   "outputs": [],
   "source": [
    "# Label Encoder"
   ]
  },
  {
   "cell_type": "code",
   "execution_count": 110,
   "metadata": {},
   "outputs": [],
   "source": [
    "from sklearn.preprocessing import LabelEncoder"
   ]
  },
  {
   "cell_type": "code",
   "execution_count": 111,
   "metadata": {},
   "outputs": [
    {
     "data": {
      "text/plain": [
       "(400, 1)"
      ]
     },
     "execution_count": 111,
     "metadata": {},
     "output_type": "execute_result"
    }
   ],
   "source": [
    "y.shape"
   ]
  },
  {
   "cell_type": "code",
   "execution_count": 112,
   "metadata": {},
   "outputs": [
    {
     "name": "stderr",
     "output_type": "stream",
     "text": [
      "C:\\Users\\Deepak\\anaconda3\\lib\\site-packages\\sklearn\\preprocessing\\_label.py:251: DataConversionWarning: A column-vector y was passed when a 1d array was expected. Please change the shape of y to (n_samples, ), for example using ravel().\n",
      "  y = column_or_1d(y, warn=True)\n"
     ]
    },
    {
     "data": {
      "text/plain": [
       "array([0, 0, 0, 0, 0, 0, 0, 0, 0, 0, 0, 0, 0, 0, 0, 0, 0, 0, 0, 0, 0, 0,\n",
       "       0, 0, 0, 0, 0, 0, 0, 0, 0, 0, 0, 0, 0, 0, 0, 0, 0, 0, 0, 0, 0, 0,\n",
       "       0, 0, 0, 0, 0, 0, 0, 0, 0, 0, 0, 0, 0, 0, 0, 0, 0, 0, 0, 0, 0, 0,\n",
       "       0, 0, 0, 0, 0, 0, 0, 0, 0, 0, 0, 0, 0, 0, 0, 0, 0, 0, 0, 0, 0, 0,\n",
       "       0, 0, 0, 0, 0, 0, 0, 0, 0, 0, 0, 0, 0, 0, 0, 0, 0, 0, 0, 0, 0, 0,\n",
       "       0, 0, 0, 0, 0, 0, 0, 0, 0, 0, 0, 0, 0, 0, 0, 0, 0, 0, 0, 0, 0, 0,\n",
       "       0, 0, 0, 0, 0, 0, 0, 0, 0, 0, 0, 0, 0, 0, 0, 0, 0, 0, 0, 0, 0, 0,\n",
       "       0, 0, 0, 0, 0, 0, 0, 0, 0, 0, 0, 0, 0, 0, 0, 0, 0, 0, 0, 0, 0, 0,\n",
       "       0, 0, 0, 0, 0, 0, 0, 0, 0, 0, 0, 0, 0, 0, 0, 0, 0, 0, 0, 0, 0, 0,\n",
       "       0, 0, 0, 0, 0, 0, 0, 0, 0, 0, 0, 0, 0, 0, 0, 0, 0, 0, 0, 0, 0, 0,\n",
       "       0, 0, 0, 0, 0, 0, 0, 0, 0, 0, 0, 0, 0, 0, 0, 0, 0, 0, 0, 0, 0, 0,\n",
       "       0, 0, 0, 0, 0, 0, 0, 0, 1, 1, 1, 1, 1, 1, 1, 1, 1, 1, 1, 1, 1, 1,\n",
       "       1, 1, 1, 1, 1, 1, 1, 1, 1, 1, 1, 1, 1, 1, 1, 1, 1, 1, 1, 1, 1, 1,\n",
       "       1, 1, 1, 1, 1, 1, 1, 1, 1, 1, 1, 1, 1, 1, 1, 1, 1, 1, 1, 1, 1, 1,\n",
       "       1, 1, 1, 1, 1, 1, 1, 1, 1, 1, 1, 1, 1, 1, 1, 1, 1, 1, 1, 1, 1, 1,\n",
       "       1, 1, 1, 1, 1, 1, 1, 1, 1, 1, 1, 1, 1, 1, 1, 1, 1, 1, 1, 1, 1, 1,\n",
       "       1, 1, 1, 1, 1, 1, 1, 1, 1, 1, 1, 1, 1, 1, 1, 1, 1, 1, 1, 1, 1, 1,\n",
       "       1, 1, 1, 1, 1, 1, 1, 1, 1, 1, 1, 1, 1, 1, 1, 1, 1, 1, 1, 1, 1, 1,\n",
       "       1, 1, 1, 1])"
      ]
     },
     "execution_count": 112,
     "metadata": {},
     "output_type": "execute_result"
    }
   ],
   "source": [
    "lb=LabelEncoder()\n",
    "y=lb.fit_transform(y)\n",
    "y"
   ]
  },
  {
   "cell_type": "code",
   "execution_count": 113,
   "metadata": {},
   "outputs": [
    {
     "data": {
      "text/plain": [
       "(400,)"
      ]
     },
     "execution_count": 113,
     "metadata": {},
     "output_type": "execute_result"
    }
   ],
   "source": [
    "y.shape"
   ]
  },
  {
   "cell_type": "code",
   "execution_count": 114,
   "metadata": {},
   "outputs": [
    {
     "data": {
      "text/html": [
       "<div>\n",
       "<style scoped>\n",
       "    .dataframe tbody tr th:only-of-type {\n",
       "        vertical-align: middle;\n",
       "    }\n",
       "\n",
       "    .dataframe tbody tr th {\n",
       "        vertical-align: top;\n",
       "    }\n",
       "\n",
       "    .dataframe thead th {\n",
       "        text-align: right;\n",
       "    }\n",
       "</style>\n",
       "<table border=\"1\" class=\"dataframe\">\n",
       "  <thead>\n",
       "    <tr style=\"text-align: right;\">\n",
       "      <th></th>\n",
       "      <th>id</th>\n",
       "      <th>age</th>\n",
       "      <th>bp</th>\n",
       "      <th>sg</th>\n",
       "      <th>al</th>\n",
       "      <th>su</th>\n",
       "      <th>rbc</th>\n",
       "      <th>pc</th>\n",
       "      <th>pcc</th>\n",
       "      <th>ba</th>\n",
       "      <th>...</th>\n",
       "      <th>pcv</th>\n",
       "      <th>wc</th>\n",
       "      <th>rc</th>\n",
       "      <th>htn</th>\n",
       "      <th>dm</th>\n",
       "      <th>cad</th>\n",
       "      <th>appet</th>\n",
       "      <th>pe</th>\n",
       "      <th>ane</th>\n",
       "      <th>classification</th>\n",
       "    </tr>\n",
       "  </thead>\n",
       "  <tbody>\n",
       "    <tr>\n",
       "      <th>0</th>\n",
       "      <td>0</td>\n",
       "      <td>48.0</td>\n",
       "      <td>80.0</td>\n",
       "      <td>1.020</td>\n",
       "      <td>1.0</td>\n",
       "      <td>0.0</td>\n",
       "      <td>normal</td>\n",
       "      <td>normal</td>\n",
       "      <td>notpresent</td>\n",
       "      <td>notpresent</td>\n",
       "      <td>...</td>\n",
       "      <td>44</td>\n",
       "      <td>7800</td>\n",
       "      <td>5.2</td>\n",
       "      <td>yes</td>\n",
       "      <td>yes</td>\n",
       "      <td>no</td>\n",
       "      <td>good</td>\n",
       "      <td>no</td>\n",
       "      <td>no</td>\n",
       "      <td>ckd</td>\n",
       "    </tr>\n",
       "    <tr>\n",
       "      <th>1</th>\n",
       "      <td>1</td>\n",
       "      <td>7.0</td>\n",
       "      <td>50.0</td>\n",
       "      <td>1.020</td>\n",
       "      <td>4.0</td>\n",
       "      <td>0.0</td>\n",
       "      <td>normal</td>\n",
       "      <td>normal</td>\n",
       "      <td>notpresent</td>\n",
       "      <td>notpresent</td>\n",
       "      <td>...</td>\n",
       "      <td>38</td>\n",
       "      <td>6000</td>\n",
       "      <td>5.2</td>\n",
       "      <td>no</td>\n",
       "      <td>no</td>\n",
       "      <td>no</td>\n",
       "      <td>good</td>\n",
       "      <td>no</td>\n",
       "      <td>no</td>\n",
       "      <td>ckd</td>\n",
       "    </tr>\n",
       "    <tr>\n",
       "      <th>2</th>\n",
       "      <td>2</td>\n",
       "      <td>62.0</td>\n",
       "      <td>80.0</td>\n",
       "      <td>1.010</td>\n",
       "      <td>2.0</td>\n",
       "      <td>3.0</td>\n",
       "      <td>normal</td>\n",
       "      <td>normal</td>\n",
       "      <td>notpresent</td>\n",
       "      <td>notpresent</td>\n",
       "      <td>...</td>\n",
       "      <td>31</td>\n",
       "      <td>7500</td>\n",
       "      <td>5.2</td>\n",
       "      <td>no</td>\n",
       "      <td>yes</td>\n",
       "      <td>no</td>\n",
       "      <td>poor</td>\n",
       "      <td>no</td>\n",
       "      <td>yes</td>\n",
       "      <td>ckd</td>\n",
       "    </tr>\n",
       "    <tr>\n",
       "      <th>3</th>\n",
       "      <td>3</td>\n",
       "      <td>48.0</td>\n",
       "      <td>70.0</td>\n",
       "      <td>1.005</td>\n",
       "      <td>4.0</td>\n",
       "      <td>0.0</td>\n",
       "      <td>normal</td>\n",
       "      <td>abnormal</td>\n",
       "      <td>present</td>\n",
       "      <td>notpresent</td>\n",
       "      <td>...</td>\n",
       "      <td>32</td>\n",
       "      <td>6700</td>\n",
       "      <td>3.9</td>\n",
       "      <td>yes</td>\n",
       "      <td>no</td>\n",
       "      <td>no</td>\n",
       "      <td>poor</td>\n",
       "      <td>yes</td>\n",
       "      <td>yes</td>\n",
       "      <td>ckd</td>\n",
       "    </tr>\n",
       "    <tr>\n",
       "      <th>4</th>\n",
       "      <td>4</td>\n",
       "      <td>51.0</td>\n",
       "      <td>80.0</td>\n",
       "      <td>1.010</td>\n",
       "      <td>2.0</td>\n",
       "      <td>0.0</td>\n",
       "      <td>normal</td>\n",
       "      <td>normal</td>\n",
       "      <td>notpresent</td>\n",
       "      <td>notpresent</td>\n",
       "      <td>...</td>\n",
       "      <td>35</td>\n",
       "      <td>7300</td>\n",
       "      <td>4.6</td>\n",
       "      <td>no</td>\n",
       "      <td>no</td>\n",
       "      <td>no</td>\n",
       "      <td>good</td>\n",
       "      <td>no</td>\n",
       "      <td>no</td>\n",
       "      <td>ckd</td>\n",
       "    </tr>\n",
       "    <tr>\n",
       "      <th>...</th>\n",
       "      <td>...</td>\n",
       "      <td>...</td>\n",
       "      <td>...</td>\n",
       "      <td>...</td>\n",
       "      <td>...</td>\n",
       "      <td>...</td>\n",
       "      <td>...</td>\n",
       "      <td>...</td>\n",
       "      <td>...</td>\n",
       "      <td>...</td>\n",
       "      <td>...</td>\n",
       "      <td>...</td>\n",
       "      <td>...</td>\n",
       "      <td>...</td>\n",
       "      <td>...</td>\n",
       "      <td>...</td>\n",
       "      <td>...</td>\n",
       "      <td>...</td>\n",
       "      <td>...</td>\n",
       "      <td>...</td>\n",
       "      <td>...</td>\n",
       "    </tr>\n",
       "    <tr>\n",
       "      <th>395</th>\n",
       "      <td>395</td>\n",
       "      <td>55.0</td>\n",
       "      <td>80.0</td>\n",
       "      <td>1.020</td>\n",
       "      <td>0.0</td>\n",
       "      <td>0.0</td>\n",
       "      <td>normal</td>\n",
       "      <td>normal</td>\n",
       "      <td>notpresent</td>\n",
       "      <td>notpresent</td>\n",
       "      <td>...</td>\n",
       "      <td>47</td>\n",
       "      <td>6700</td>\n",
       "      <td>4.9</td>\n",
       "      <td>no</td>\n",
       "      <td>no</td>\n",
       "      <td>no</td>\n",
       "      <td>good</td>\n",
       "      <td>no</td>\n",
       "      <td>no</td>\n",
       "      <td>notckd</td>\n",
       "    </tr>\n",
       "    <tr>\n",
       "      <th>396</th>\n",
       "      <td>396</td>\n",
       "      <td>42.0</td>\n",
       "      <td>70.0</td>\n",
       "      <td>1.025</td>\n",
       "      <td>0.0</td>\n",
       "      <td>0.0</td>\n",
       "      <td>normal</td>\n",
       "      <td>normal</td>\n",
       "      <td>notpresent</td>\n",
       "      <td>notpresent</td>\n",
       "      <td>...</td>\n",
       "      <td>54</td>\n",
       "      <td>7800</td>\n",
       "      <td>6.2</td>\n",
       "      <td>no</td>\n",
       "      <td>no</td>\n",
       "      <td>no</td>\n",
       "      <td>good</td>\n",
       "      <td>no</td>\n",
       "      <td>no</td>\n",
       "      <td>notckd</td>\n",
       "    </tr>\n",
       "    <tr>\n",
       "      <th>397</th>\n",
       "      <td>397</td>\n",
       "      <td>12.0</td>\n",
       "      <td>80.0</td>\n",
       "      <td>1.020</td>\n",
       "      <td>0.0</td>\n",
       "      <td>0.0</td>\n",
       "      <td>normal</td>\n",
       "      <td>normal</td>\n",
       "      <td>notpresent</td>\n",
       "      <td>notpresent</td>\n",
       "      <td>...</td>\n",
       "      <td>49</td>\n",
       "      <td>6600</td>\n",
       "      <td>5.4</td>\n",
       "      <td>no</td>\n",
       "      <td>no</td>\n",
       "      <td>no</td>\n",
       "      <td>good</td>\n",
       "      <td>no</td>\n",
       "      <td>no</td>\n",
       "      <td>notckd</td>\n",
       "    </tr>\n",
       "    <tr>\n",
       "      <th>398</th>\n",
       "      <td>398</td>\n",
       "      <td>17.0</td>\n",
       "      <td>60.0</td>\n",
       "      <td>1.025</td>\n",
       "      <td>0.0</td>\n",
       "      <td>0.0</td>\n",
       "      <td>normal</td>\n",
       "      <td>normal</td>\n",
       "      <td>notpresent</td>\n",
       "      <td>notpresent</td>\n",
       "      <td>...</td>\n",
       "      <td>51</td>\n",
       "      <td>7200</td>\n",
       "      <td>5.9</td>\n",
       "      <td>no</td>\n",
       "      <td>no</td>\n",
       "      <td>no</td>\n",
       "      <td>good</td>\n",
       "      <td>no</td>\n",
       "      <td>no</td>\n",
       "      <td>notckd</td>\n",
       "    </tr>\n",
       "    <tr>\n",
       "      <th>399</th>\n",
       "      <td>399</td>\n",
       "      <td>58.0</td>\n",
       "      <td>80.0</td>\n",
       "      <td>1.025</td>\n",
       "      <td>0.0</td>\n",
       "      <td>0.0</td>\n",
       "      <td>normal</td>\n",
       "      <td>normal</td>\n",
       "      <td>notpresent</td>\n",
       "      <td>notpresent</td>\n",
       "      <td>...</td>\n",
       "      <td>53</td>\n",
       "      <td>6800</td>\n",
       "      <td>6.1</td>\n",
       "      <td>no</td>\n",
       "      <td>no</td>\n",
       "      <td>no</td>\n",
       "      <td>good</td>\n",
       "      <td>no</td>\n",
       "      <td>no</td>\n",
       "      <td>notckd</td>\n",
       "    </tr>\n",
       "  </tbody>\n",
       "</table>\n",
       "<p>400 rows × 26 columns</p>\n",
       "</div>"
      ],
      "text/plain": [
       "      id   age    bp     sg   al   su     rbc        pc         pcc  \\\n",
       "0      0  48.0  80.0  1.020  1.0  0.0  normal    normal  notpresent   \n",
       "1      1   7.0  50.0  1.020  4.0  0.0  normal    normal  notpresent   \n",
       "2      2  62.0  80.0  1.010  2.0  3.0  normal    normal  notpresent   \n",
       "3      3  48.0  70.0  1.005  4.0  0.0  normal  abnormal     present   \n",
       "4      4  51.0  80.0  1.010  2.0  0.0  normal    normal  notpresent   \n",
       "..   ...   ...   ...    ...  ...  ...     ...       ...         ...   \n",
       "395  395  55.0  80.0  1.020  0.0  0.0  normal    normal  notpresent   \n",
       "396  396  42.0  70.0  1.025  0.0  0.0  normal    normal  notpresent   \n",
       "397  397  12.0  80.0  1.020  0.0  0.0  normal    normal  notpresent   \n",
       "398  398  17.0  60.0  1.025  0.0  0.0  normal    normal  notpresent   \n",
       "399  399  58.0  80.0  1.025  0.0  0.0  normal    normal  notpresent   \n",
       "\n",
       "             ba  ...  pcv    wc   rc  htn   dm  cad appet   pe  ane  \\\n",
       "0    notpresent  ...   44  7800  5.2  yes  yes   no  good   no   no   \n",
       "1    notpresent  ...   38  6000  5.2   no   no   no  good   no   no   \n",
       "2    notpresent  ...   31  7500  5.2   no  yes   no  poor   no  yes   \n",
       "3    notpresent  ...   32  6700  3.9  yes   no   no  poor  yes  yes   \n",
       "4    notpresent  ...   35  7300  4.6   no   no   no  good   no   no   \n",
       "..          ...  ...  ...   ...  ...  ...  ...  ...   ...  ...  ...   \n",
       "395  notpresent  ...   47  6700  4.9   no   no   no  good   no   no   \n",
       "396  notpresent  ...   54  7800  6.2   no   no   no  good   no   no   \n",
       "397  notpresent  ...   49  6600  5.4   no   no   no  good   no   no   \n",
       "398  notpresent  ...   51  7200  5.9   no   no   no  good   no   no   \n",
       "399  notpresent  ...   53  6800  6.1   no   no   no  good   no   no   \n",
       "\n",
       "    classification  \n",
       "0              ckd  \n",
       "1              ckd  \n",
       "2              ckd  \n",
       "3              ckd  \n",
       "4              ckd  \n",
       "..             ...  \n",
       "395         notckd  \n",
       "396         notckd  \n",
       "397         notckd  \n",
       "398         notckd  \n",
       "399         notckd  \n",
       "\n",
       "[400 rows x 26 columns]"
      ]
     },
     "execution_count": 114,
     "metadata": {},
     "output_type": "execute_result"
    }
   ],
   "source": [
    "dataset"
   ]
  },
  {
   "cell_type": "code",
   "execution_count": 115,
   "metadata": {},
   "outputs": [
    {
     "data": {
      "text/plain": [
       "array([[-0.42008403, -0.4843221 , -0.50780078, ...,  0.28878993,\n",
       "        -0.37605137,  0.38052135],\n",
       "       [-0.42008403, -0.4843221 , -0.50780078, ..., -0.337879  ,\n",
       "        -1.06994422,  0.38052135],\n",
       "       [ 2.38047614, -0.4843221 ,  1.96927621, ..., -1.06899276,\n",
       "        -0.49170018,  0.38052135],\n",
       "       ...,\n",
       "       [-0.42008403, -0.4843221 , -0.50780078, ...,  0.81101405,\n",
       "        -0.8386466 ,  0.6102701 ],\n",
       "       [-0.42008403, -0.4843221 , -0.50780078, ...,  1.01990369,\n",
       "        -0.60734899,  1.18464195],\n",
       "       [-0.42008403, -0.4843221 , -0.50780078, ...,  1.22879334,\n",
       "        -0.7615474 ,  1.4143907 ]])"
      ]
     },
     "execution_count": 115,
     "metadata": {},
     "output_type": "execute_result"
    }
   ],
   "source": [
    "from sklearn.preprocessing import StandardScaler\n",
    "sc=StandardScaler()\n",
    "x=sc.fit_transform(x)\n",
    "x"
   ]
  },
  {
   "cell_type": "code",
   "execution_count": null,
   "metadata": {},
   "outputs": [],
   "source": []
  }
 ],
 "metadata": {
  "kernelspec": {
   "display_name": "Python 3",
   "language": "python",
   "name": "python3"
  },
  "language_info": {
   "codemirror_mode": {
    "name": "ipython",
    "version": 3
   },
   "file_extension": ".py",
   "mimetype": "text/x-python",
   "name": "python",
   "nbconvert_exporter": "python",
   "pygments_lexer": "ipython3",
   "version": "3.7.6"
  }
 },
 "nbformat": 4,
 "nbformat_minor": 4
}
